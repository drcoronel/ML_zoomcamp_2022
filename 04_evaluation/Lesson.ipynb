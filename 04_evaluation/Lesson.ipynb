{
 "cells": [
  {
   "cell_type": "markdown",
   "metadata": {},
   "source": [
    "# Evaluation metrics for Classification\n",
    "\n",
    "In the previous session we trained a model for predicting churn. How do we know if it's good?\n",
    "\n",
    "## 4.1 Evaluation metrics: session overview\n",
    "\n",
    "- Dataset: https://www.kaggle.com/blastchar/telco-customer-churn\n",
    "- https://raw.githubusercontent.com/alexeygrigorev/mlbookcamp-code/master/chapter-03-churn-prediction/WA_Fn-UseC_-Telco-Customer-Churn.csv\n",
    "\n",
    "Metric - function that compares the predictions with the actual values and outputs a single number that tells how good the predictions are\n"
   ]
  },
  {
   "cell_type": "code",
   "execution_count": 5,
   "metadata": {},
   "outputs": [],
   "source": [
    "import pandas as pd\n",
    "import numpy as np\n",
    "\n",
    "import matplotlib.pyplot as plt\n",
    "from matplotlib import style\n",
    "\n",
    "style.use('seaborn')"
   ]
  },
  {
   "cell_type": "code",
   "execution_count": 6,
   "metadata": {},
   "outputs": [],
   "source": [
    "from sklearn.model_selection import train_test_split\n",
    "from sklearn.feature_extraction import DictVectorizer\n",
    "from sklearn.linear_model import LogisticRegression"
   ]
  },
  {
   "cell_type": "code",
   "execution_count": 7,
   "metadata": {},
   "outputs": [],
   "source": [
    "df = pd.read_csv('data-week-3.csv')\n",
    "\n",
    "df.columns = df.columns.str.lower().str.replace(' ', '_')\n",
    "\n",
    "categorical_columns = list(df.dtypes[df.dtypes == 'object'].index)\n",
    "\n",
    "for c in categorical_columns:\n",
    "    df[c] = df[c].str.lower().str.replace(' ', '_')\n",
    "\n",
    "df.totalcharges = pd.to_numeric(df.totalcharges, errors='coerce')\n",
    "df.totalcharges = df.totalcharges.fillna(0)\n",
    "\n",
    "df.churn = (df.churn == 'yes').astype(int)"
   ]
  },
  {
   "cell_type": "code",
   "execution_count": 8,
   "metadata": {},
   "outputs": [],
   "source": [
    "df_full_train, df_test = train_test_split(df, test_size=0.2, random_state=1)\n",
    "df_train, df_val = train_test_split(df_full_train, test_size=0.25, random_state=1)\n",
    "\n",
    "df_train = df_train.reset_index(drop=True)\n",
    "df_val = df_val.reset_index(drop=True)\n",
    "df_test = df_test.reset_index(drop=True)\n",
    "\n",
    "y_train = df_train.churn.values\n",
    "y_val = df_val.churn.values\n",
    "y_test = df_test.churn.values\n",
    "\n",
    "del df_train['churn']\n",
    "del df_val['churn']\n",
    "del df_test['churn']"
   ]
  },
  {
   "cell_type": "code",
   "execution_count": 9,
   "metadata": {},
   "outputs": [],
   "source": [
    "numerical = ['tenure', 'monthlycharges', 'totalcharges']\n",
    "\n",
    "categorical = [\n",
    "    'gender',\n",
    "    'seniorcitizen',\n",
    "    'partner',\n",
    "    'dependents',\n",
    "    'phoneservice',\n",
    "    'multiplelines',\n",
    "    'internetservice',\n",
    "    'onlinesecurity',\n",
    "    'onlinebackup',\n",
    "    'deviceprotection',\n",
    "    'techsupport',\n",
    "    'streamingtv',\n",
    "    'streamingmovies',\n",
    "    'contract',\n",
    "    'paperlessbilling',\n",
    "    'paymentmethod',\n",
    "]"
   ]
  },
  {
   "cell_type": "code",
   "execution_count": 10,
   "metadata": {},
   "outputs": [
    {
     "data": {
      "text/html": [
       "<style>#sk-container-id-1 {color: black;background-color: white;}#sk-container-id-1 pre{padding: 0;}#sk-container-id-1 div.sk-toggleable {background-color: white;}#sk-container-id-1 label.sk-toggleable__label {cursor: pointer;display: block;width: 100%;margin-bottom: 0;padding: 0.3em;box-sizing: border-box;text-align: center;}#sk-container-id-1 label.sk-toggleable__label-arrow:before {content: \"▸\";float: left;margin-right: 0.25em;color: #696969;}#sk-container-id-1 label.sk-toggleable__label-arrow:hover:before {color: black;}#sk-container-id-1 div.sk-estimator:hover label.sk-toggleable__label-arrow:before {color: black;}#sk-container-id-1 div.sk-toggleable__content {max-height: 0;max-width: 0;overflow: hidden;text-align: left;background-color: #f0f8ff;}#sk-container-id-1 div.sk-toggleable__content pre {margin: 0.2em;color: black;border-radius: 0.25em;background-color: #f0f8ff;}#sk-container-id-1 input.sk-toggleable__control:checked~div.sk-toggleable__content {max-height: 200px;max-width: 100%;overflow: auto;}#sk-container-id-1 input.sk-toggleable__control:checked~label.sk-toggleable__label-arrow:before {content: \"▾\";}#sk-container-id-1 div.sk-estimator input.sk-toggleable__control:checked~label.sk-toggleable__label {background-color: #d4ebff;}#sk-container-id-1 div.sk-label input.sk-toggleable__control:checked~label.sk-toggleable__label {background-color: #d4ebff;}#sk-container-id-1 input.sk-hidden--visually {border: 0;clip: rect(1px 1px 1px 1px);clip: rect(1px, 1px, 1px, 1px);height: 1px;margin: -1px;overflow: hidden;padding: 0;position: absolute;width: 1px;}#sk-container-id-1 div.sk-estimator {font-family: monospace;background-color: #f0f8ff;border: 1px dotted black;border-radius: 0.25em;box-sizing: border-box;margin-bottom: 0.5em;}#sk-container-id-1 div.sk-estimator:hover {background-color: #d4ebff;}#sk-container-id-1 div.sk-parallel-item::after {content: \"\";width: 100%;border-bottom: 1px solid gray;flex-grow: 1;}#sk-container-id-1 div.sk-label:hover label.sk-toggleable__label {background-color: #d4ebff;}#sk-container-id-1 div.sk-serial::before {content: \"\";position: absolute;border-left: 1px solid gray;box-sizing: border-box;top: 0;bottom: 0;left: 50%;z-index: 0;}#sk-container-id-1 div.sk-serial {display: flex;flex-direction: column;align-items: center;background-color: white;padding-right: 0.2em;padding-left: 0.2em;position: relative;}#sk-container-id-1 div.sk-item {position: relative;z-index: 1;}#sk-container-id-1 div.sk-parallel {display: flex;align-items: stretch;justify-content: center;background-color: white;position: relative;}#sk-container-id-1 div.sk-item::before, #sk-container-id-1 div.sk-parallel-item::before {content: \"\";position: absolute;border-left: 1px solid gray;box-sizing: border-box;top: 0;bottom: 0;left: 50%;z-index: -1;}#sk-container-id-1 div.sk-parallel-item {display: flex;flex-direction: column;z-index: 1;position: relative;background-color: white;}#sk-container-id-1 div.sk-parallel-item:first-child::after {align-self: flex-end;width: 50%;}#sk-container-id-1 div.sk-parallel-item:last-child::after {align-self: flex-start;width: 50%;}#sk-container-id-1 div.sk-parallel-item:only-child::after {width: 0;}#sk-container-id-1 div.sk-dashed-wrapped {border: 1px dashed gray;margin: 0 0.4em 0.5em 0.4em;box-sizing: border-box;padding-bottom: 0.4em;background-color: white;}#sk-container-id-1 div.sk-label label {font-family: monospace;font-weight: bold;display: inline-block;line-height: 1.2em;}#sk-container-id-1 div.sk-label-container {text-align: center;}#sk-container-id-1 div.sk-container {/* jupyter's `normalize.less` sets `[hidden] { display: none; }` but bootstrap.min.css set `[hidden] { display: none !important; }` so we also need the `!important` here to be able to override the default hidden behavior on the sphinx rendered scikit-learn.org. See: https://github.com/scikit-learn/scikit-learn/issues/21755 */display: inline-block !important;position: relative;}#sk-container-id-1 div.sk-text-repr-fallback {display: none;}</style><div id=\"sk-container-id-1\" class=\"sk-top-container\"><div class=\"sk-text-repr-fallback\"><pre>LogisticRegression()</pre><b>In a Jupyter environment, please rerun this cell to show the HTML representation or trust the notebook. <br />On GitHub, the HTML representation is unable to render, please try loading this page with nbviewer.org.</b></div><div class=\"sk-container\" hidden><div class=\"sk-item\"><div class=\"sk-estimator sk-toggleable\"><input class=\"sk-toggleable__control sk-hidden--visually\" id=\"sk-estimator-id-1\" type=\"checkbox\" checked><label for=\"sk-estimator-id-1\" class=\"sk-toggleable__label sk-toggleable__label-arrow\">LogisticRegression</label><div class=\"sk-toggleable__content\"><pre>LogisticRegression()</pre></div></div></div></div></div>"
      ],
      "text/plain": [
       "LogisticRegression()"
      ]
     },
     "execution_count": 10,
     "metadata": {},
     "output_type": "execute_result"
    }
   ],
   "source": [
    "dv = DictVectorizer(sparse=False)\n",
    "\n",
    "train_dict = df_train[categorical + numerical].to_dict(orient='records')\n",
    "X_train = dv.fit_transform(train_dict)\n",
    "\n",
    "model = LogisticRegression()\n",
    "model.fit(X_train, y_train)"
   ]
  },
  {
   "cell_type": "code",
   "execution_count": 11,
   "metadata": {},
   "outputs": [
    {
     "data": {
      "text/plain": [
       "0.8034066713981547"
      ]
     },
     "execution_count": 11,
     "metadata": {},
     "output_type": "execute_result"
    }
   ],
   "source": [
    "val_dict = df_val[categorical + numerical].to_dict(orient='records')\n",
    "X_val = dv.transform(val_dict)\n",
    "\n",
    "y_pred = model.predict_proba(X_val)[:, 1]\n",
    "churn_decision = (y_pred >= 0.5)\n",
    "(y_val == churn_decision).mean()"
   ]
  },
  {
   "cell_type": "markdown",
   "metadata": {},
   "source": [
    "## 4.2 Accuracy and dummy model\n",
    "\n",
    "- Evaluate the model on different thresholds\n",
    "- Check the accuracy of dummy baselines\n",
    "\n",
    "$$ Accuracy = \\frac{Correct Predictions}{N Samples}"
   ]
  },
  {
   "cell_type": "code",
   "execution_count": 12,
   "metadata": {},
   "outputs": [
    {
     "data": {
      "text/plain": [
       "1409"
      ]
     },
     "execution_count": 12,
     "metadata": {},
     "output_type": "execute_result"
    }
   ],
   "source": [
    "len(y_val)"
   ]
  },
  {
   "cell_type": "code",
   "execution_count": 13,
   "metadata": {},
   "outputs": [
    {
     "data": {
      "text/plain": [
       "1132"
      ]
     },
     "execution_count": 13,
     "metadata": {},
     "output_type": "execute_result"
    }
   ],
   "source": [
    "correct = (y_val == churn_decision).sum()\n",
    "correct"
   ]
  },
  {
   "cell_type": "code",
   "execution_count": 14,
   "metadata": {},
   "outputs": [
    {
     "name": "stdout",
     "output_type": "stream",
     "text": [
      "Accuracy 0.8034066713981547\n"
     ]
    }
   ],
   "source": [
    "print(f\"Accuracy {correct/len(y_val)}\")"
   ]
  },
  {
   "cell_type": "markdown",
   "metadata": {},
   "source": [
    "What if we change the decision threshold?"
   ]
  },
  {
   "cell_type": "code",
   "execution_count": 15,
   "metadata": {},
   "outputs": [],
   "source": [
    "from sklearn.metrics import accuracy_score"
   ]
  },
  {
   "cell_type": "code",
   "execution_count": 16,
   "metadata": {},
   "outputs": [],
   "source": [
    "thresholds = np.linspace(0,1,21)\n",
    "scores = []\n",
    "for thr in thresholds:\n",
    "    churn_decision = (y_pred >= thr)\n",
    "    score = accuracy_score(y_val,churn_decision)\n",
    "    scores.append(score)"
   ]
  },
  {
   "cell_type": "code",
   "execution_count": 17,
   "metadata": {},
   "outputs": [
    {
     "data": {
      "text/plain": [
       "<matplotlib.collections.LineCollection at 0x7f1a316a4700>"
      ]
     },
     "execution_count": 17,
     "metadata": {},
     "output_type": "execute_result"
    },
    {
     "data": {
      "image/png": "[encoded data removed]",
      "text/plain": [
       "<Figure size 800x550 with 1 Axes>"
      ]
     },
     "metadata": {},
     "output_type": "display_data"
    }
   ],
   "source": [
    "max_score_idx = scores.index(max(scores))\n",
    "plt.plot(thresholds,scores)\n",
    "plt.vlines(x=thresholds[max_score_idx],ymin=min(scores),ymax=max(scores),color='r',ls='--')"
   ]
  },
  {
   "cell_type": "markdown",
   "metadata": {},
   "source": [
    "The accuracy of the predictions using a threshold of 1, we see that the accuracy is quite high (~0.73). But why is that?"
   ]
  },
  {
   "cell_type": "code",
   "execution_count": 18,
   "metadata": {},
   "outputs": [],
   "source": [
    "from collections import Counter"
   ]
  },
  {
   "cell_type": "code",
   "execution_count": 19,
   "metadata": {},
   "outputs": [
    {
     "data": {
      "text/plain": [
       "Counter({False: 1409})"
      ]
     },
     "execution_count": 19,
     "metadata": {},
     "output_type": "execute_result"
    }
   ],
   "source": [
    "Counter(y_pred >= 1.0)"
   ]
  },
  {
   "cell_type": "markdown",
   "metadata": {},
   "source": [
    "If we look at the distribution of y_val, we see that there are a lot more non-churning users. We see that ~27% of the users are churning. If we predict everything as non-churning, we will have a high accuracy. The model is only incorrect for the cases where the users are churning (~27%). This problem is refered to class imbalance. Thus, accuracy is not the best metric for problems where we find that the classes are imbalanced."
   ]
  },
  {
   "cell_type": "code",
   "execution_count": 20,
   "metadata": {},
   "outputs": [
    {
     "data": {
      "text/plain": [
       "Counter({0: 1023, 1: 386})"
      ]
     },
     "execution_count": 20,
     "metadata": {},
     "output_type": "execute_result"
    }
   ],
   "source": [
    "Counter(y_val)"
   ]
  },
  {
   "cell_type": "code",
   "execution_count": 21,
   "metadata": {},
   "outputs": [
    {
     "data": {
      "text/plain": [
       "0.7260468417317246"
      ]
     },
     "execution_count": 21,
     "metadata": {},
     "output_type": "execute_result"
    }
   ],
   "source": [
    "1 - y_val.mean()"
   ]
  },
  {
   "cell_type": "markdown",
   "metadata": {},
   "source": [
    "## 4.3 Confusion table\n",
    "\n",
    "- Different types of errors and correct decisions\n",
    "- Arrange them in a table"
   ]
  },
  {
   "cell_type": "code",
   "execution_count": 22,
   "metadata": {},
   "outputs": [],
   "source": [
    "actual_positive = (y_val == 1)\n",
    "actual_negative = (y_val == 0)"
   ]
  },
  {
   "cell_type": "code",
   "execution_count": 23,
   "metadata": {},
   "outputs": [],
   "source": [
    "threshold = 0.5\n",
    "pred_positive = (y_pred >= threshold)\n",
    "pred_negative = (y_pred < threshold)"
   ]
  },
  {
   "cell_type": "code",
   "execution_count": 24,
   "metadata": {},
   "outputs": [
    {
     "data": {
      "text/plain": [
       "array([False, False, False,  True, False])"
      ]
     },
     "execution_count": 24,
     "metadata": {},
     "output_type": "execute_result"
    }
   ],
   "source": [
    "(actual_positive & pred_positive)[:5]"
   ]
  },
  {
   "cell_type": "code",
   "execution_count": 25,
   "metadata": {},
   "outputs": [
    {
     "name": "stdout",
     "output_type": "stream",
     "text": [
      "tp =210, tn =922\n"
     ]
    }
   ],
   "source": [
    "true_positive = (actual_positive & pred_positive).sum()\n",
    "true_negative = (actual_negative & pred_negative).sum()\n",
    "\n",
    "print(f\"tp ={true_positive}, tn ={true_negative}\")"
   ]
  },
  {
   "cell_type": "code",
   "execution_count": 26,
   "metadata": {},
   "outputs": [
    {
     "name": "stdout",
     "output_type": "stream",
     "text": [
      "fp = 101, fn = 176\n"
     ]
    }
   ],
   "source": [
    "false_positive = (pred_positive & actual_negative).sum()\n",
    "false_negative = (pred_negative & actual_positive).sum()\n",
    "\n",
    "print(f\"fp = {false_positive}, fn = {false_negative}\")"
   ]
  },
  {
   "cell_type": "markdown",
   "metadata": {},
   "source": [
    "| Actual/Predictions | Negative | Positive |\n",
    "|-------------|----------|----------|\n",
    "| Negative    | TN = 922      | FP  = 101      |\n",
    "| Positive    | FN = 176      | TP  = 210     |\n"
   ]
  },
  {
   "cell_type": "code",
   "execution_count": 27,
   "metadata": {},
   "outputs": [],
   "source": [
    "confusion_matrix = np.array([\n",
    "    [true_negative,false_positive],\n",
    "    [false_negative,true_positive]\n",
    "])"
   ]
  },
  {
   "cell_type": "code",
   "execution_count": 28,
   "metadata": {},
   "outputs": [
    {
     "data": {
      "text/plain": [
       "array([[922, 101],\n",
       "       [176, 210]])"
      ]
     },
     "execution_count": 28,
     "metadata": {},
     "output_type": "execute_result"
    }
   ],
   "source": [
    "confusion_matrix"
   ]
  },
  {
   "cell_type": "code",
   "execution_count": 29,
   "metadata": {},
   "outputs": [
    {
     "data": {
      "text/plain": [
       "array([[0.65, 0.07],\n",
       "       [0.12, 0.15]])"
      ]
     },
     "execution_count": 29,
     "metadata": {},
     "output_type": "execute_result"
    }
   ],
   "source": [
    "norm_confusion_matrix = np.round(confusion_matrix / confusion_matrix.sum(),2)\n",
    "norm_confusion_matrix"
   ]
  },
  {
   "cell_type": "markdown",
   "metadata": {},
   "source": [
    "$$Accuracy = tn + tp$$"
   ]
  },
  {
   "cell_type": "markdown",
   "metadata": {},
   "source": [
    "## 4.4 Precision and Recall \n",
    "\n",
    "Metris to evaluate binary classification models.\n",
    "\n",
    "Precision: Fraction of positive predictions that are correct. $$precision = \\frac{Tp}{Tp+Fp}$$\n",
    "\n",
    "Recall: Fraction of correctly identified positive examples. We are interested in the actual positive points. $$recall=\\frac{Tp}{NumPositiveobs}=\\frac{Tp}{Tp+Fn}$$"
   ]
  },
  {
   "cell_type": "markdown",
   "metadata": {},
   "source": [
    "Approx 33% of positive predictions are actually negative. (1-precision)"
   ]
  },
  {
   "cell_type": "code",
   "execution_count": 30,
   "metadata": {},
   "outputs": [
    {
     "data": {
      "text/plain": [
       "0.6752411575562701"
      ]
     },
     "execution_count": 30,
     "metadata": {},
     "output_type": "execute_result"
    }
   ],
   "source": [
    "precision = true_positive/(true_positive+false_positive)\n",
    "precision"
   ]
  },
  {
   "cell_type": "markdown",
   "metadata": {},
   "source": [
    "The model failed identifying 46% of people churning (actual positive)"
   ]
  },
  {
   "cell_type": "code",
   "execution_count": 31,
   "metadata": {},
   "outputs": [
    {
     "data": {
      "text/plain": [
       "0.5440414507772021"
      ]
     },
     "execution_count": 31,
     "metadata": {},
     "output_type": "execute_result"
    }
   ],
   "source": [
    "recall = true_positive/(true_positive+false_negative)\n",
    "recall"
   ]
  },
  {
   "cell_type": "markdown",
   "metadata": {},
   "source": [
    "## 4.5 ROC Curves\n",
    "\n",
    "ROC = Receiver operating characteristic\n",
    "\n",
    "$$FPR = \\frac{Fp}{Tn + Fp}$$\n",
    "$$TPR = \\frac{Tp}{Fn + Tp}$$\n",
    "\n",
    "We want to minimize the False positive rate (FPR) and maximize the True Positive rate (TPR)."
   ]
  },
  {
   "cell_type": "code",
   "execution_count": 34,
   "metadata": {},
   "outputs": [
    {
     "data": {
      "text/plain": [
       "0.5440414507772021"
      ]
     },
     "execution_count": 34,
     "metadata": {},
     "output_type": "execute_result"
    }
   ],
   "source": [
    "tpr  = true_positive / (true_positive+ false_negative)\n",
    "tpr"
   ]
  },
  {
   "cell_type": "markdown",
   "metadata": {},
   "source": [
    "TPR is the same as recall "
   ]
  },
  {
   "cell_type": "code",
   "execution_count": 36,
   "metadata": {},
   "outputs": [
    {
     "data": {
      "text/plain": [
       "0.5440414507772021"
      ]
     },
     "execution_count": 36,
     "metadata": {},
     "output_type": "execute_result"
    }
   ],
   "source": [
    "recall"
   ]
  },
  {
   "cell_type": "code",
   "execution_count": null,
   "metadata": {},
   "outputs": [],
   "source": []
  },
  {
   "cell_type": "code",
   "execution_count": 35,
   "metadata": {},
   "outputs": [
    {
     "data": {
      "text/plain": [
       "0.09872922776148582"
      ]
     },
     "execution_count": 35,
     "metadata": {},
     "output_type": "execute_result"
    }
   ],
   "source": [
    "fpr = false_positive / (true_negative + false_positive)\n",
    "fpr"
   ]
  },
  {
   "cell_type": "code",
   "execution_count": 37,
   "metadata": {},
   "outputs": [
    {
     "data": {
      "text/plain": [
       "[(0.0, 386, 1023, 0, 0),\n",
       " (0.01, 385, 913, 1, 110),\n",
       " (0.02, 384, 830, 2, 193),\n",
       " (0.03, 383, 766, 3, 257),\n",
       " (0.04, 381, 715, 5, 308),\n",
       " (0.05, 379, 685, 7, 338),\n",
       " (0.06, 377, 661, 9, 362),\n",
       " (0.07, 372, 641, 14, 382),\n",
       " (0.08, 371, 613, 15, 410),\n",
       " (0.09, 369, 580, 17, 443),\n",
       " (0.1, 366, 556, 20, 467),\n",
       " (0.11, 365, 528, 21, 495),\n",
       " (0.12, 365, 509, 21, 514),\n",
       " (0.13, 360, 477, 26, 546),\n",
       " (0.14, 355, 453, 31, 570),\n",
       " (0.15, 351, 435, 35, 588),\n",
       " (0.16, 347, 419, 39, 604),\n",
       " (0.17, 346, 401, 40, 622),\n",
       " (0.18, 344, 384, 42, 639),\n",
       " (0.19, 338, 369, 48, 654),\n",
       " (0.2, 333, 356, 53, 667),\n",
       " (0.21, 330, 341, 56, 682),\n",
       " (0.22, 323, 322, 63, 701),\n",
       " (0.23, 320, 313, 66, 710),\n",
       " (0.24, 316, 303, 70, 720),\n",
       " (0.25, 309, 291, 77, 732),\n",
       " (0.26, 304, 281, 82, 742),\n",
       " (0.27, 303, 270, 83, 753),\n",
       " (0.28, 295, 256, 91, 767),\n",
       " (0.29, 291, 244, 95, 779),\n",
       " (0.3, 284, 236, 102, 787),\n",
       " (0.31, 280, 230, 106, 793),\n",
       " (0.32, 278, 226, 108, 797),\n",
       " (0.33, 276, 221, 110, 802),\n",
       " (0.34, 274, 212, 112, 811),\n",
       " (0.35000000000000003, 272, 207, 114, 816),\n",
       " (0.36, 267, 201, 119, 822),\n",
       " (0.37, 265, 197, 121, 826),\n",
       " (0.38, 260, 185, 126, 838),\n",
       " (0.39, 252, 178, 134, 845),\n",
       " (0.4, 249, 166, 137, 857),\n",
       " (0.41000000000000003, 246, 159, 140, 864),\n",
       " (0.42, 243, 157, 143, 866),\n",
       " (0.43, 241, 150, 145, 873),\n",
       " (0.44, 234, 147, 152, 876),\n",
       " (0.45, 229, 135, 157, 888),\n",
       " (0.46, 224, 125, 162, 898),\n",
       " (0.47000000000000003, 218, 120, 168, 903),\n",
       " (0.48, 217, 114, 169, 909),\n",
       " (0.49, 213, 110, 173, 913),\n",
       " (0.5, 210, 101, 176, 922),\n",
       " (0.51, 207, 99, 179, 924),\n",
       " (0.52, 204, 93, 182, 930),\n",
       " (0.53, 196, 91, 190, 932),\n",
       " (0.54, 194, 86, 192, 937),\n",
       " (0.55, 185, 79, 201, 944),\n",
       " (0.56, 182, 76, 204, 947),\n",
       " (0.5700000000000001, 176, 67, 210, 956),\n",
       " (0.58, 171, 61, 215, 962),\n",
       " (0.59, 163, 59, 223, 964),\n",
       " (0.6, 150, 53, 236, 970),\n",
       " (0.61, 145, 49, 241, 974),\n",
       " (0.62, 141, 46, 245, 977),\n",
       " (0.63, 133, 40, 253, 983),\n",
       " (0.64, 125, 37, 261, 986),\n",
       " (0.65, 119, 34, 267, 989),\n",
       " (0.66, 114, 31, 272, 992),\n",
       " (0.67, 105, 29, 281, 994),\n",
       " (0.68, 94, 26, 292, 997),\n",
       " (0.6900000000000001, 88, 25, 298, 998),\n",
       " (0.7000000000000001, 76, 20, 310, 1003),\n",
       " (0.71, 63, 14, 323, 1009),\n",
       " (0.72, 57, 11, 329, 1012),\n",
       " (0.73, 47, 9, 339, 1014),\n",
       " (0.74, 41, 8, 345, 1015),\n",
       " (0.75, 33, 7, 353, 1016),\n",
       " (0.76, 30, 6, 356, 1017),\n",
       " (0.77, 25, 5, 361, 1018),\n",
       " (0.78, 19, 3, 367, 1020),\n",
       " (0.79, 15, 2, 371, 1021),\n",
       " (0.8, 13, 1, 373, 1022),\n",
       " (0.81, 6, 0, 380, 1023),\n",
       " (0.8200000000000001, 5, 0, 381, 1023),\n",
       " (0.8300000000000001, 3, 0, 383, 1023),\n",
       " (0.84, 0, 0, 386, 1023),\n",
       " (0.85, 0, 0, 386, 1023),\n",
       " (0.86, 0, 0, 386, 1023),\n",
       " (0.87, 0, 0, 386, 1023),\n",
       " (0.88, 0, 0, 386, 1023),\n",
       " (0.89, 0, 0, 386, 1023),\n",
       " (0.9, 0, 0, 386, 1023),\n",
       " (0.91, 0, 0, 386, 1023),\n",
       " (0.92, 0, 0, 386, 1023),\n",
       " (0.93, 0, 0, 386, 1023),\n",
       " (0.9400000000000001, 0, 0, 386, 1023),\n",
       " (0.9500000000000001, 0, 0, 386, 1023),\n",
       " (0.96, 0, 0, 386, 1023),\n",
       " (0.97, 0, 0, 386, 1023),\n",
       " (0.98, 0, 0, 386, 1023),\n",
       " (0.99, 0, 0, 386, 1023),\n",
       " (1.0, 0, 0, 386, 1023)]"
      ]
     },
     "execution_count": 37,
     "metadata": {},
     "output_type": "execute_result"
    }
   ],
   "source": [
    "thresholds = np.linspace(0,1,101)\n",
    "\n",
    "actual_positive = (y_val == 1)\n",
    "actual_negative = (y_val == 0)\n",
    "\n",
    "scores = []\n",
    "for threshold in thresholds:\n",
    "\n",
    "    pred_positive = (y_pred >= threshold)\n",
    "    pred_negative = (y_pred < threshold)\n",
    "\n",
    "    tp = (actual_positive & pred_positive).sum()\n",
    "    tn = (actual_negative & pred_negative).sum()\n",
    "\n",
    "    fp = (pred_positive & actual_negative).sum()\n",
    "    fn = (pred_negative & actual_positive).sum()\n",
    "\n",
    "    scores.append((threshold,tp,fp,fn,tn))\n",
    "\n",
    "scores"
   ]
  },
  {
   "cell_type": "code",
   "execution_count": 39,
   "metadata": {},
   "outputs": [],
   "source": [
    "df_scores = pd.DataFrame(scores,columns=['threshold','tp','fp','fn','tn'])"
   ]
  },
  {
   "cell_type": "code",
   "execution_count": 40,
   "metadata": {},
   "outputs": [
    {
     "data": {
      "text/html": [
       "<div>\n",
       "<style scoped>\n",
       "    .dataframe tbody tr th:only-of-type {\n",
       "        vertical-align: middle;\n",
       "    }\n",
       "\n",
       "    .dataframe tbody tr th {\n",
       "        vertical-align: top;\n",
       "    }\n",
       "\n",
       "    .dataframe thead th {\n",
       "        text-align: right;\n",
       "    }\n",
       "</style>\n",
       "<table border=\"1\" class=\"dataframe\">\n",
       "  <thead>\n",
       "    <tr style=\"text-align: right;\">\n",
       "      <th></th>\n",
       "      <th>threshold</th>\n",
       "      <th>tp</th>\n",
       "      <th>fp</th>\n",
       "      <th>fn</th>\n",
       "      <th>tn</th>\n",
       "    </tr>\n",
       "  </thead>\n",
       "  <tbody>\n",
       "    <tr>\n",
       "      <th>0</th>\n",
       "      <td>0.0</td>\n",
       "      <td>386</td>\n",
       "      <td>1023</td>\n",
       "      <td>0</td>\n",
       "      <td>0</td>\n",
       "    </tr>\n",
       "    <tr>\n",
       "      <th>10</th>\n",
       "      <td>0.1</td>\n",
       "      <td>366</td>\n",
       "      <td>556</td>\n",
       "      <td>20</td>\n",
       "      <td>467</td>\n",
       "    </tr>\n",
       "    <tr>\n",
       "      <th>20</th>\n",
       "      <td>0.2</td>\n",
       "      <td>333</td>\n",
       "      <td>356</td>\n",
       "      <td>53</td>\n",
       "      <td>667</td>\n",
       "    </tr>\n",
       "    <tr>\n",
       "      <th>30</th>\n",
       "      <td>0.3</td>\n",
       "      <td>284</td>\n",
       "      <td>236</td>\n",
       "      <td>102</td>\n",
       "      <td>787</td>\n",
       "    </tr>\n",
       "    <tr>\n",
       "      <th>40</th>\n",
       "      <td>0.4</td>\n",
       "      <td>249</td>\n",
       "      <td>166</td>\n",
       "      <td>137</td>\n",
       "      <td>857</td>\n",
       "    </tr>\n",
       "    <tr>\n",
       "      <th>50</th>\n",
       "      <td>0.5</td>\n",
       "      <td>210</td>\n",
       "      <td>101</td>\n",
       "      <td>176</td>\n",
       "      <td>922</td>\n",
       "    </tr>\n",
       "    <tr>\n",
       "      <th>60</th>\n",
       "      <td>0.6</td>\n",
       "      <td>150</td>\n",
       "      <td>53</td>\n",
       "      <td>236</td>\n",
       "      <td>970</td>\n",
       "    </tr>\n",
       "    <tr>\n",
       "      <th>70</th>\n",
       "      <td>0.7</td>\n",
       "      <td>76</td>\n",
       "      <td>20</td>\n",
       "      <td>310</td>\n",
       "      <td>1003</td>\n",
       "    </tr>\n",
       "    <tr>\n",
       "      <th>80</th>\n",
       "      <td>0.8</td>\n",
       "      <td>13</td>\n",
       "      <td>1</td>\n",
       "      <td>373</td>\n",
       "      <td>1022</td>\n",
       "    </tr>\n",
       "    <tr>\n",
       "      <th>90</th>\n",
       "      <td>0.9</td>\n",
       "      <td>0</td>\n",
       "      <td>0</td>\n",
       "      <td>386</td>\n",
       "      <td>1023</td>\n",
       "    </tr>\n",
       "    <tr>\n",
       "      <th>100</th>\n",
       "      <td>1.0</td>\n",
       "      <td>0</td>\n",
       "      <td>0</td>\n",
       "      <td>386</td>\n",
       "      <td>1023</td>\n",
       "    </tr>\n",
       "  </tbody>\n",
       "</table>\n",
       "</div>"
      ],
      "text/plain": [
       "     threshold   tp    fp   fn    tn\n",
       "0          0.0  386  1023    0     0\n",
       "10         0.1  366   556   20   467\n",
       "20         0.2  333   356   53   667\n",
       "30         0.3  284   236  102   787\n",
       "40         0.4  249   166  137   857\n",
       "50         0.5  210   101  176   922\n",
       "60         0.6  150    53  236   970\n",
       "70         0.7   76    20  310  1003\n",
       "80         0.8   13     1  373  1022\n",
       "90         0.9    0     0  386  1023\n",
       "100        1.0    0     0  386  1023"
      ]
     },
     "execution_count": 40,
     "metadata": {},
     "output_type": "execute_result"
    }
   ],
   "source": [
    "df_scores[::10]"
   ]
  },
  {
   "cell_type": "code",
   "execution_count": 43,
   "metadata": {},
   "outputs": [],
   "source": [
    "df_scores['tpr'] = df_scores.tp / (df_scores.tp + df_scores.fn)\n",
    "df_scores['fpr'] = df_scores.fp / (df_scores.fp + df_scores.tn)"
   ]
  },
  {
   "cell_type": "code",
   "execution_count": 46,
   "metadata": {},
   "outputs": [
    {
     "data": {
      "text/plain": [
       "<AxesSubplot:xlabel='threshold'>"
      ]
     },
     "execution_count": 46,
     "metadata": {},
     "output_type": "execute_result"
    },
    {
     "data": {
      "image/png": "[encoded data removed]",
      "text/plain": [
       "<Figure size 800x550 with 1 Axes>"
      ]
     },
     "metadata": {},
     "output_type": "display_data"
    }
   ],
   "source": [
    "df_scores.plot(x='threshold',y=['tpr','fpr'])"
   ]
  },
  {
   "cell_type": "markdown",
   "metadata": {},
   "source": [
    "### Random Model"
   ]
  },
  {
   "cell_type": "code",
   "execution_count": 47,
   "metadata": {},
   "outputs": [
    {
     "data": {
      "text/plain": [
       "array([0.417, 0.72 , 0.   , ..., 0.774, 0.334, 0.089])"
      ]
     },
     "execution_count": 47,
     "metadata": {},
     "output_type": "execute_result"
    }
   ],
   "source": [
    "np.random.seed(1)\n",
    "\n",
    "y_rand = np.random.uniform(0,1,size=len(y_val))\n",
    "y_rand.round(3)"
   ]
  },
  {
   "cell_type": "code",
   "execution_count": 48,
   "metadata": {},
   "outputs": [
    {
     "data": {
      "text/plain": [
       "0.5017743080198722"
      ]
     },
     "execution_count": 48,
     "metadata": {},
     "output_type": "execute_result"
    }
   ],
   "source": [
    "((y_rand >=0.5) == y_val).mean()"
   ]
  },
  {
   "cell_type": "code",
   "execution_count": 49,
   "metadata": {},
   "outputs": [],
   "source": [
    "def tpr_fpr_dataframe(y_val,y_pred):\n",
    "\n",
    "    thresholds = np.linspace(0,1,101)\n",
    "\n",
    "    actual_positive = (y_val == 1)\n",
    "    actual_negative = (y_val == 0)\n",
    "\n",
    "    scores = []\n",
    "    for threshold in thresholds:\n",
    "\n",
    "        pred_positive = (y_pred >= threshold)\n",
    "        pred_negative = (y_pred < threshold)\n",
    "\n",
    "        tp = (actual_positive & pred_positive).sum()\n",
    "        tn = (actual_negative & pred_negative).sum()\n",
    "\n",
    "        fp = (pred_positive & actual_negative).sum()\n",
    "        fn = (pred_negative & actual_positive).sum()\n",
    "\n",
    "        scores.append((threshold,tp,fp,fn,tn))\n",
    "\n",
    "    df_scores = pd.DataFrame(scores,columns=['threshold','tp','fp','fn','tn'])\n",
    "    df_scores['tpr'] = df_scores.tp / (df_scores.tp + df_scores.fn)\n",
    "    df_scores['fpr'] = df_scores.fp / (df_scores.fp + df_scores.tn)\n",
    "\n",
    "    return df_scores\n"
   ]
  },
  {
   "cell_type": "code",
   "execution_count": 51,
   "metadata": {},
   "outputs": [
    {
     "data": {
      "text/plain": [
       "<AxesSubplot:xlabel='threshold'>"
      ]
     },
     "execution_count": 51,
     "metadata": {},
     "output_type": "execute_result"
    },
    {
     "data": {
      "image/png": "[encoded data removed]",
      "text/plain": [
       "<Figure size 800x550 with 1 Axes>"
      ]
     },
     "metadata": {},
     "output_type": "display_data"
    }
   ],
   "source": [
    "df_rand = tpr_fpr_dataframe(y_val=y_val,y_pred=y_rand)\n",
    "\n",
    "df_rand[::10].plot(x='threshold',y=['tpr','fpr'])"
   ]
  },
  {
   "cell_type": "markdown",
   "metadata": {},
   "source": [
    "### Ideal model"
   ]
  },
  {
   "cell_type": "code",
   "execution_count": 52,
   "metadata": {},
   "outputs": [
    {
     "data": {
      "text/plain": [
       "(1023, 386)"
      ]
     },
     "execution_count": 52,
     "metadata": {},
     "output_type": "execute_result"
    }
   ],
   "source": [
    "num_neg = (y_val == 0).sum()\n",
    "num_pos = (y_val == 1).sum()\n",
    "num_neg,num_pos"
   ]
  },
  {
   "cell_type": "code",
   "execution_count": 53,
   "metadata": {},
   "outputs": [
    {
     "data": {
      "text/plain": [
       "array([0, 0, 0, ..., 1, 1, 1])"
      ]
     },
     "execution_count": 53,
     "metadata": {},
     "output_type": "execute_result"
    }
   ],
   "source": [
    "y_ideal = np.repeat([0,1],[num_neg,num_pos])\n",
    "y_ideal"
   ]
  },
  {
   "cell_type": "code",
   "execution_count": 54,
   "metadata": {},
   "outputs": [],
   "source": [
    "y_ideal_pred = np.linspace(0,1,len(y_val))"
   ]
  },
  {
   "cell_type": "code",
   "execution_count": 56,
   "metadata": {},
   "outputs": [
    {
     "data": {
      "text/plain": [
       "1.0"
      ]
     },
     "execution_count": 56,
     "metadata": {},
     "output_type": "execute_result"
    }
   ],
   "source": [
    "((y_ideal >= 0.726) == y_ideal).mean()"
   ]
  },
  {
   "cell_type": "code",
   "execution_count": 58,
   "metadata": {},
   "outputs": [
    {
     "data": {
      "text/plain": [
       "<AxesSubplot:xlabel='threshold'>"
      ]
     },
     "execution_count": 58,
     "metadata": {},
     "output_type": "execute_result"
    },
    {
     "data": {
      "image/png": "[encoded data removed]",
      "text/plain": [
       "<Figure size 800x550 with 1 Axes>"
      ]
     },
     "metadata": {},
     "output_type": "display_data"
    }
   ],
   "source": [
    "df_ideal = tpr_fpr_dataframe(y_ideal,y_ideal_pred)\n",
    "\n",
    "df_ideal.plot(x='threshold',y=['tpr','fpr'])"
   ]
  },
  {
   "cell_type": "code",
   "execution_count": 66,
   "metadata": {},
   "outputs": [
    {
     "data": {
      "text/plain": [
       "<AxesSubplot:xlabel='threshold'>"
      ]
     },
     "execution_count": 66,
     "metadata": {},
     "output_type": "execute_result"
    },
    {
     "data": {
      "image/png": "[encoded data removed]",
      "text/plain": [
       "<Figure size 800x550 with 1 Axes>"
      ]
     },
     "metadata": {},
     "output_type": "display_data"
    }
   ],
   "source": [
    "fig,ax=plt.subplots()\n",
    "df_scores.plot(x='threshold',y=['tpr','fpr'],ax=ax)\n",
    "#df_rand.plot(x='threshold',y=['tpr','fpr'],ax=ax)\n",
    "df_ideal.plot(x='threshold',y=['tpr','fpr'],color='k',ax=ax)"
   ]
  },
  {
   "cell_type": "code",
   "execution_count": 79,
   "metadata": {},
   "outputs": [
    {
     "data": {
      "text/plain": [
       "Text(0, 0.5, 'TPR')"
      ]
     },
     "execution_count": 79,
     "metadata": {},
     "output_type": "execute_result"
    },
    {
     "data": {
      "image/png": "[encoded data removed]",
      "text/plain": [
       "<Figure size 800x550 with 1 Axes>"
      ]
     },
     "metadata": {},
     "output_type": "display_data"
    }
   ],
   "source": [
    "import seaborn as sns\n",
    "fig,ax=plt.subplots()\n",
    "\n",
    "df_scores.plot(x='fpr',y='tpr',label='Model',ls='--',ax=ax)\n",
    "sns.scatterplot(x='fpr',y='tpr',hue='threshold',palette='viridis',data=df_scores[::5],label='threshold',ax=ax)\n",
    "df_rand.plot(x='fpr',y='tpr',label='Random',ax=ax)\n",
    "df_ideal.plot(x='fpr',y='tpr',label='Ideal',ax=ax)\n",
    "\n",
    "ax.set_xlabel('FPR')\n",
    "ax.set_ylabel('TPR')"
   ]
  },
  {
   "cell_type": "markdown",
   "metadata": {},
   "source": [
    "We want to have our FPR/TPR curve as closest to the ideal model (0,1) and as far from the random model. \n",
    "\n",
    "Lets understand the figure above: \n",
    "\n",
    "- $FPR = 0 \\land TPR = 0 $ (0,0): This happens at bigger threshold. We predict that they are negative. We dont predict any positive and the FPR = 0 because we only have True negatives.\n",
    "\n",
    "- $FPR = 1 \\land TPR = 1 $ (1,1): The trheshold is 0.0/ THis is where the model has 100% TPR because we predict everything as positive. We are able to identify all the positive values, but we made a lot of mistakes identifying the negative cases."
   ]
  },
  {
   "cell_type": "code",
   "execution_count": 80,
   "metadata": {},
   "outputs": [],
   "source": [
    "from sklearn.metrics import roc_curve"
   ]
  },
  {
   "cell_type": "code",
   "execution_count": 83,
   "metadata": {},
   "outputs": [],
   "source": [
    "fpr,tpr,thrs = roc_curve(y_true=y_val,y_score=y_pred)"
   ]
  },
  {
   "cell_type": "code",
   "execution_count": 87,
   "metadata": {},
   "outputs": [
    {
     "data": {
      "text/plain": [
       "Text(0, 0.5, 'TPR')"
      ]
     },
     "execution_count": 87,
     "metadata": {},
     "output_type": "execute_result"
    },
    {
     "data": {
      "image/png": "[encoded data removed]",
      "text/plain": [
       "<Figure size 800x550 with 1 Axes>"
      ]
     },
     "metadata": {},
     "output_type": "display_data"
    }
   ],
   "source": [
    "fig,ax=plt.subplots()\n",
    "\n",
    "ax.plot(fpr,tpr,label='Model')\n",
    "sns.scatterplot(x='fpr',y='tpr',hue='threshold',palette='viridis',data=df_scores[::5],label='threshold',ax=ax)\n",
    "df_rand.plot(x='fpr',y='tpr',label='Random',ax=ax)\n",
    "df_ideal.plot(x='fpr',y='tpr',label='Ideal',ax=ax)\n",
    "\n",
    "ax.set_xlabel('FPR')\n",
    "ax.set_ylabel('TPR')"
   ]
  },
  {
   "cell_type": "markdown",
   "metadata": {},
   "source": [
    "## 4.6 ROC AUC\n",
    "\n",
    "- Area under the ROC - useful metric\n",
    "- Interpretation of AUC\n",
    "\n",
    "AUC values:\n",
    "- Ideal model $ AUC = 1 $\n",
    "- random model $AUC \\approx 0.5$\n",
    "\n",
    "So our model should have an AUC between 0.5 and 1 and we target to maximize AUC"
   ]
  },
  {
   "cell_type": "code",
   "execution_count": 88,
   "metadata": {},
   "outputs": [],
   "source": [
    "from sklearn.metrics import auc"
   ]
  },
  {
   "cell_type": "code",
   "execution_count": 89,
   "metadata": {},
   "outputs": [
    {
     "data": {
      "text/plain": [
       "0.843850505725819"
      ]
     },
     "execution_count": 89,
     "metadata": {},
     "output_type": "execute_result"
    }
   ],
   "source": [
    "auc(fpr,tpr)"
   ]
  },
  {
   "cell_type": "code",
   "execution_count": 90,
   "metadata": {},
   "outputs": [
    {
     "data": {
      "text/plain": [
       "0.8438808948586651"
      ]
     },
     "execution_count": 90,
     "metadata": {},
     "output_type": "execute_result"
    }
   ],
   "source": [
    "auc(df_scores.fpr,df_scores.tpr)"
   ]
  },
  {
   "cell_type": "code",
   "execution_count": 91,
   "metadata": {},
   "outputs": [
    {
     "data": {
      "text/plain": [
       "0.9999430203759136"
      ]
     },
     "execution_count": 91,
     "metadata": {},
     "output_type": "execute_result"
    }
   ],
   "source": [
    "auc(df_ideal.fpr,df_ideal.tpr)"
   ]
  },
  {
   "cell_type": "code",
   "execution_count": 92,
   "metadata": {},
   "outputs": [
    {
     "data": {
      "text/plain": [
       "0.5060233793728696"
      ]
     },
     "execution_count": 92,
     "metadata": {},
     "output_type": "execute_result"
    }
   ],
   "source": [
    "auc(df_rand.fpr,df_rand.tpr)"
   ]
  },
  {
   "cell_type": "code",
   "execution_count": 93,
   "metadata": {},
   "outputs": [
    {
     "data": {
      "text/plain": [
       "0.843850505725819"
      ]
     },
     "execution_count": 93,
     "metadata": {},
     "output_type": "execute_result"
    }
   ],
   "source": [
    "from sklearn.metrics import roc_auc_score\n",
    "\n",
    "roc_auc_score(y_val,y_pred)"
   ]
  },
  {
   "cell_type": "markdown",
   "metadata": {},
   "source": [
    "AUC can be interpreted as the probability that a randomly selected positive example has higher score than a randomly selected negative example.\n",
    "\n",
    "$Proba(Pos_{score} > Neg_{score}) = AUC $"
   ]
  },
  {
   "cell_type": "code",
   "execution_count": 94,
   "metadata": {},
   "outputs": [],
   "source": [
    "neg = y_pred[y_val == 0]\n",
    "pos = y_pred[y_val == 1]"
   ]
  },
  {
   "cell_type": "code",
   "execution_count": 95,
   "metadata": {},
   "outputs": [],
   "source": [
    "import random "
   ]
  },
  {
   "cell_type": "code",
   "execution_count": 97,
   "metadata": {},
   "outputs": [
    {
     "data": {
      "text/plain": [
       "(212, 981)"
      ]
     },
     "execution_count": 97,
     "metadata": {},
     "output_type": "execute_result"
    }
   ],
   "source": [
    "pos_idx = random.randint(0,len(pos) - 1)\n",
    "neg_idx = random.randint(0,len(neg) - 1)\n",
    "pos_idx,neg_idx"
   ]
  },
  {
   "cell_type": "code",
   "execution_count": 98,
   "metadata": {},
   "outputs": [
    {
     "data": {
      "text/plain": [
       "True"
      ]
     },
     "execution_count": 98,
     "metadata": {},
     "output_type": "execute_result"
    }
   ],
   "source": [
    "pos[pos_idx] > neg[neg_idx]"
   ]
  },
  {
   "cell_type": "code",
   "execution_count": 101,
   "metadata": {},
   "outputs": [
    {
     "name": "stdout",
     "output_type": "stream",
     "text": [
      "The sucess ratio 0.8424 is almost equal to AUC\n"
     ]
    }
   ],
   "source": [
    "n = 10000\n",
    "sucess = 0\n",
    "\n",
    "for i in range(n):\n",
    "    pos_idx = random.randint(0,len(pos) - 1)\n",
    "    neg_idx = random.randint(0,len(neg) - 1)\n",
    "    \n",
    "    if pos[pos_idx] > neg[neg_idx]:\n",
    "        sucess += 1\n",
    "\n",
    "print(f\"The sucess ratio {sucess/n} is almost equal to AUC\")"
   ]
  },
  {
   "cell_type": "code",
   "execution_count": 106,
   "metadata": {},
   "outputs": [
    {
     "data": {
      "text/plain": [
       "0.8412"
      ]
     },
     "execution_count": 106,
     "metadata": {},
     "output_type": "execute_result"
    }
   ],
   "source": [
    "n = 10000\n",
    "np.random.seed(1)\n",
    "pos_idx = np.random.randint(0,len(pos),size=n)\n",
    "neg_idx = np.random.randint(0,len(neg),size=n)\n",
    "(pos[pos_idx] > neg[neg_idx]).sum() / n"
   ]
  },
  {
   "cell_type": "markdown",
   "metadata": {},
   "source": [
    "## 4.7 Cross-validation\n",
    "\n",
    "- Evaluating the same model on different subsets of data\n",
    "- Getting the average prediction and the spread withing predictions\n",
    "- Hyper-parameter tuning\n",
    "\n",
    "\n",
    "We can split our dataset in the following way:\n",
    "\n",
    "|full train [80%] | test [20%]|\n",
    "|---|------\n",
    "|D1 D2 D3 | test |\n",
    "\n",
    "We use the full train dataset and split it in K folds; in this example K=3\n",
    "\n",
    "|train|validate|AUC|\n",
    "|-|-|-|\n",
    "|D1 D2 | D3 |AUC1|\n",
    "|D1 D3 | D2 |AUC2|\n",
    "|D2 D3 | D1 |AUC3|\n",
    "\n",
    "\n",
    "We can compute the mean AUC and the Standard deviation.\n",
    "\n",
    "\n",
    "\n"
   ]
  },
  {
   "cell_type": "code",
   "execution_count": 134,
   "metadata": {},
   "outputs": [],
   "source": [
    "def train(df,y_train,C=1.0):\n",
    "    dicts = df[categorical+numerical].to_dict(orient='records')\n",
    "    dv = DictVectorizer(sparse=False)\n",
    "    X_train = dv.fit_transform(dicts)\n",
    "\n",
    "    model = LogisticRegression(C=C,max_iter=1000)\n",
    "    model.fit(X_train,y_train)\n",
    "\n",
    "    return dv,model "
   ]
  },
  {
   "cell_type": "code",
   "execution_count": 135,
   "metadata": {},
   "outputs": [],
   "source": [
    "dv,model = train(df_train,y_train)"
   ]
  },
  {
   "cell_type": "code",
   "execution_count": 136,
   "metadata": {},
   "outputs": [],
   "source": [
    "def predict(df,dv,model):\n",
    "    \n",
    "    dicts = df[categorical+numerical].to_dict(orient='records')\n",
    "    X = dv.transform(dicts)\n",
    "    y_pred = model.predict_proba(X)[:,1]\n",
    "    \n",
    "    return y_pred "
   ]
  },
  {
   "cell_type": "code",
   "execution_count": 137,
   "metadata": {},
   "outputs": [
    {
     "data": {
      "text/plain": [
       "array([0.15611419, 0.00690853, 0.67572331, 0.10187985, 0.58758631,\n",
       "       0.31291451, 0.25923392, 0.22185223, 0.0042437 , 0.07893422,\n",
       "       0.0521258 , 0.01930876, 0.49969097, 0.74873084, 0.31170543,\n",
       "       0.19263626, 0.65443704, 0.26359591, 0.27366301, 0.04917417,\n",
       "       0.71008927, 0.04162581, 0.00465323, 0.49930442, 0.77651988,\n",
       "       0.08666344, 0.7269335 , 0.04349264, 0.6645523 , 0.00865733,\n",
       "       0.03895334, 0.01211871, 0.42983428, 0.58124773, 0.11923805,\n",
       "       0.04479141, 0.54368454, 0.22520733, 0.77409192, 0.63563542,\n",
       "       0.31021801, 0.26229317, 0.74583802, 0.00939694, 0.00343335,\n",
       "       0.56662708, 0.38513043, 0.29831134, 0.08542337, 0.50561288,\n",
       "       0.01070902, 0.00839357, 0.53989937, 0.62791521, 0.19279844,\n",
       "       0.07796344, 0.00588776, 0.41918774, 0.02854869, 0.00653003,\n",
       "       0.03014194, 0.68786214, 0.26613982, 0.05203161, 0.64785862,\n",
       "       0.02840576, 0.75732711, 0.07131101, 0.17693419, 0.02579381,\n",
       "       0.4127622 , 0.38553545, 0.50775891, 0.15962155, 0.72446162,\n",
       "       0.17701134, 0.00603422, 0.59072169, 0.03503122, 0.40963027,\n",
       "       0.44100729, 0.11010182, 0.12155864, 0.02766242, 0.2511288 ,\n",
       "       0.77831125, 0.06985594, 0.03354796, 0.51494701, 0.6114036 ,\n",
       "       0.66347093, 0.00475466, 0.27382484, 0.60405163, 0.68417559,\n",
       "       0.20679132, 0.52441985, 0.13629401, 0.2728733 , 0.26648909,\n",
       "       0.06872643, 0.09902444, 0.59397808, 0.26510187, 0.00271867,\n",
       "       0.6216163 , 0.38816068, 0.02130491, 0.37292458, 0.07861741,\n",
       "       0.6213757 , 0.0167023 , 0.32027027, 0.08967273, 0.62759958,\n",
       "       0.03494219, 0.11310588, 0.10045554, 0.57774077, 0.14573974,\n",
       "       0.16904214, 0.04094794, 0.13778161, 0.37452237, 0.09084736,\n",
       "       0.0330711 , 0.52919518, 0.15167273, 0.03484037, 0.18639117,\n",
       "       0.71907338, 0.05495563, 0.24625617, 0.03698654, 0.32689608,\n",
       "       0.06199755, 0.02635234, 0.15136595, 0.2583779 , 0.20517433,\n",
       "       0.13570886, 0.11703139, 0.70988811, 0.03725952, 0.36792806,\n",
       "       0.10118799, 0.79456627, 0.51336354, 0.00465076, 0.00689323,\n",
       "       0.09782919, 0.00338236, 0.27764005, 0.08191625, 0.74334292,\n",
       "       0.71128456, 0.24926795, 0.03058855, 0.4831573 , 0.00580989,\n",
       "       0.17195497, 0.04023586, 0.21916289, 0.12961122, 0.48546559,\n",
       "       0.04061628, 0.57800138, 0.02977292, 0.40235316, 0.33876618,\n",
       "       0.46983181, 0.24046481, 0.35061175, 0.58214698, 0.18570521,\n",
       "       0.49134354, 0.46937224, 0.04880581, 0.51688362, 0.57025   ,\n",
       "       0.10099573, 0.03677158, 0.03732631, 0.07821695, 0.01383794,\n",
       "       0.01158844, 0.09831447, 0.0884496 , 0.1635948 , 0.01103524,\n",
       "       0.03744869, 0.0526282 , 0.22494458, 0.3128486 , 0.4941652 ,\n",
       "       0.25085044, 0.79159649, 0.00715053, 0.09416137, 0.0463999 ,\n",
       "       0.01991478, 0.00525549, 0.63625692, 0.04625998, 0.45327158,\n",
       "       0.59523273, 0.64848805, 0.13453489, 0.0372505 , 0.11122407,\n",
       "       0.02948678, 0.03869304, 0.17425103, 0.74299014, 0.05392409,\n",
       "       0.30594399, 0.46808102, 0.00522409, 0.21097314, 0.14115725,\n",
       "       0.01291846, 0.31164115, 0.35859542, 0.02087575, 0.56735093,\n",
       "       0.25025548, 0.07679453, 0.15325581, 0.7680823 , 0.01214849,\n",
       "       0.06387518, 0.17671025, 0.78373192, 0.4670189 , 0.04136616,\n",
       "       0.03696311, 0.06165439, 0.02607919, 0.26257973, 0.02005888,\n",
       "       0.65208152, 0.11953775, 0.00576122, 0.01459558, 0.03722084,\n",
       "       0.43652437, 0.12336444, 0.50055727, 0.54276859, 0.27982465,\n",
       "       0.71155396, 0.01248384, 0.37929311, 0.45901192, 0.22690275,\n",
       "       0.49732236, 0.37647204, 0.04891461, 0.51316119, 0.08518032,\n",
       "       0.30835749, 0.58648122, 0.0216943 , 0.01626563, 0.20878929,\n",
       "       0.58326563, 0.15633764, 0.20686968, 0.79685895, 0.72420453,\n",
       "       0.39385463, 0.14879082, 0.00356226, 0.15256275, 0.06323513,\n",
       "       0.33227302, 0.00502514, 0.63682743, 0.00633002, 0.21438771,\n",
       "       0.52969542, 0.39245564, 0.02536347, 0.20081684, 0.4723553 ,\n",
       "       0.42298831, 0.34416076, 0.25040892, 0.05796395, 0.16762281,\n",
       "       0.33116545, 0.00351609, 0.16593902, 0.02556516, 0.11643259,\n",
       "       0.60299782, 0.31677267, 0.31947557, 0.1815031 , 0.58092045,\n",
       "       0.41008188, 0.15188598, 0.42012925, 0.00214162, 0.74665668,\n",
       "       0.10443674, 0.18699253, 0.08275802, 0.29569975, 0.68134893,\n",
       "       0.49324315, 0.01259843, 0.23798413, 0.20040817, 0.64714742,\n",
       "       0.19816747, 0.01574129, 0.03099112, 0.18671171, 0.36858199,\n",
       "       0.17842413, 0.40418627, 0.03192754, 0.06860181, 0.14930476,\n",
       "       0.6322656 , 0.16972637, 0.00294268, 0.01959247, 0.04193984,\n",
       "       0.06840299, 0.01841034, 0.05463921, 0.01262592, 0.01315516,\n",
       "       0.2856873 , 0.0694641 , 0.0406609 , 0.08376423, 0.48480517,\n",
       "       0.2743822 , 0.00404209, 0.19320969, 0.34392771, 0.07171092,\n",
       "       0.36423869, 0.09617035, 0.20823476, 0.11693995, 0.0288281 ,\n",
       "       0.05492008, 0.69209448, 0.5631291 , 0.61007309, 0.05769464,\n",
       "       0.52203181, 0.80967567, 0.69545488, 0.73376307, 0.09485888,\n",
       "       0.06248371, 0.66538519, 0.52209057, 0.00217916, 0.13950212,\n",
       "       0.14590295, 0.25971835, 0.02177607, 0.06830893, 0.10071019,\n",
       "       0.04538103, 0.09991235, 0.39779847, 0.00846276, 0.0042442 ,\n",
       "       0.61038709, 0.18279139, 0.61805534, 0.68449958, 0.23288519,\n",
       "       0.1252459 , 0.13116794, 0.52505412, 0.17326878, 0.57228058,\n",
       "       0.36225969, 0.07355372, 0.58110941, 0.52008948, 0.00626071,\n",
       "       0.03037902, 0.59884296, 0.0692368 , 0.7693199 , 0.23759574,\n",
       "       0.09303865, 0.0401367 , 0.22407828, 0.00193097, 0.25537672,\n",
       "       0.1467022 , 0.50301343, 0.23244698, 0.83021756, 0.11479028,\n",
       "       0.11515604, 0.76618044, 0.13044938, 0.05211826, 0.01424337,\n",
       "       0.25276409, 0.17045329, 0.09968145, 0.57109109, 0.04357181,\n",
       "       0.10105457, 0.00427521, 0.03473603, 0.11113844, 0.82215731,\n",
       "       0.55506298, 0.07811115, 0.37886939, 0.18923713, 0.01425284,\n",
       "       0.04047534, 0.06604416, 0.18599109, 0.25267777, 0.15244322,\n",
       "       0.18437903, 0.27865257, 0.20824076, 0.00591287, 0.01596196,\n",
       "       0.11829332, 0.75150678, 0.02305204, 0.05512908, 0.63011935,\n",
       "       0.50463612, 0.70560138, 0.08081138, 0.31134563, 0.06874304,\n",
       "       0.32036898, 0.08476929, 0.23362371, 0.503206  , 0.03507379,\n",
       "       0.41245234, 0.5171177 , 0.60756802, 0.01569634, 0.42692835,\n",
       "       0.02760769, 0.01074381, 0.06493621, 0.03834142, 0.05704189,\n",
       "       0.08841313, 0.07665228, 0.15086183, 0.04054126, 0.28027333,\n",
       "       0.07436087, 0.58729466, 0.01010527, 0.03154284, 0.02507415,\n",
       "       0.66548973, 0.57660951, 0.04780227, 0.47731695, 0.08357455,\n",
       "       0.01520798, 0.54303761, 0.55459398, 0.11386405, 0.24961201,\n",
       "       0.36666181, 0.00829929, 0.16857341, 0.36530177, 0.07635237,\n",
       "       0.61901396, 0.06690058, 0.70856492, 0.58805329, 0.25500249,\n",
       "       0.01683796, 0.00502696, 0.00505224, 0.38348144, 0.26523719,\n",
       "       0.59850284, 0.68013302, 0.58005389, 0.72582797, 0.2065236 ,\n",
       "       0.0161213 , 0.09237524, 0.67607237, 0.02226783, 0.65852697,\n",
       "       0.71949995, 0.18438134, 0.15561625, 0.21618979, 0.03082546,\n",
       "       0.26184297, 0.00485041, 0.18709531, 0.50285743, 0.63935879,\n",
       "       0.00491136, 0.00457976, 0.01414106, 0.72797992, 0.33862639,\n",
       "       0.69643945, 0.3348685 , 0.31937843, 0.18070198, 0.26028469,\n",
       "       0.1767207 , 0.58319975, 0.04379485, 0.00319744, 0.10647109,\n",
       "       0.45520462, 0.14806418, 0.49607327, 0.67624853, 0.00205146,\n",
       "       0.0203965 , 0.51550479, 0.11444116, 0.00233702, 0.02459145,\n",
       "       0.47314718, 0.02501055, 0.45547501, 0.32316665, 0.44116903,\n",
       "       0.00786529, 0.04659526, 0.15393252, 0.46701966, 0.29932901,\n",
       "       0.00282181, 0.00959622, 0.00241851, 0.00444614, 0.38591717,\n",
       "       0.0896893 , 0.20834191, 0.21652079, 0.00208021, 0.22863726,\n",
       "       0.57521186, 0.78850304, 0.00362446])"
      ]
     },
     "execution_count": 137,
     "metadata": {},
     "output_type": "execute_result"
    }
   ],
   "source": [
    "y_pred = predict(df_val,dv,model)\n",
    "y_pred"
   ]
  },
  {
   "cell_type": "code",
   "execution_count": 138,
   "metadata": {},
   "outputs": [],
   "source": [
    "from sklearn.model_selection import KFold"
   ]
  },
  {
   "cell_type": "code",
   "execution_count": 139,
   "metadata": {},
   "outputs": [],
   "source": [
    "kfold = KFold(n_splits=10,shuffle=True,random_state=1)"
   ]
  },
  {
   "cell_type": "code",
   "execution_count": 140,
   "metadata": {},
   "outputs": [
    {
     "data": {
      "text/plain": [
       "(5634, 5070, 564)"
      ]
     },
     "execution_count": 140,
     "metadata": {},
     "output_type": "execute_result"
    }
   ],
   "source": [
    "train_idx,val_idx = next(kfold.split(df_full_train))\n",
    "\n",
    "len(df_full_train),len(train_idx),len(val_idx)"
   ]
  },
  {
   "cell_type": "code",
   "execution_count": 141,
   "metadata": {},
   "outputs": [
    {
     "data": {
      "text/html": [
       "<div>\n",
       "<style scoped>\n",
       "    .dataframe tbody tr th:only-of-type {\n",
       "        vertical-align: middle;\n",
       "    }\n",
       "\n",
       "    .dataframe tbody tr th {\n",
       "        vertical-align: top;\n",
       "    }\n",
       "\n",
       "    .dataframe thead th {\n",
       "        text-align: right;\n",
       "    }\n",
       "</style>\n",
       "<table border=\"1\" class=\"dataframe\">\n",
       "  <thead>\n",
       "    <tr style=\"text-align: right;\">\n",
       "      <th></th>\n",
       "      <th>customerid</th>\n",
       "      <th>gender</th>\n",
       "      <th>seniorcitizen</th>\n",
       "      <th>partner</th>\n",
       "      <th>dependents</th>\n",
       "      <th>tenure</th>\n",
       "      <th>phoneservice</th>\n",
       "      <th>multiplelines</th>\n",
       "      <th>internetservice</th>\n",
       "      <th>onlinesecurity</th>\n",
       "      <th>...</th>\n",
       "      <th>deviceprotection</th>\n",
       "      <th>techsupport</th>\n",
       "      <th>streamingtv</th>\n",
       "      <th>streamingmovies</th>\n",
       "      <th>contract</th>\n",
       "      <th>paperlessbilling</th>\n",
       "      <th>paymentmethod</th>\n",
       "      <th>monthlycharges</th>\n",
       "      <th>totalcharges</th>\n",
       "      <th>churn</th>\n",
       "    </tr>\n",
       "  </thead>\n",
       "  <tbody>\n",
       "    <tr>\n",
       "      <th>1814</th>\n",
       "      <td>5442-pptjy</td>\n",
       "      <td>male</td>\n",
       "      <td>0</td>\n",
       "      <td>yes</td>\n",
       "      <td>yes</td>\n",
       "      <td>12</td>\n",
       "      <td>yes</td>\n",
       "      <td>no</td>\n",
       "      <td>no</td>\n",
       "      <td>no_internet_service</td>\n",
       "      <td>...</td>\n",
       "      <td>no_internet_service</td>\n",
       "      <td>no_internet_service</td>\n",
       "      <td>no_internet_service</td>\n",
       "      <td>no_internet_service</td>\n",
       "      <td>two_year</td>\n",
       "      <td>no</td>\n",
       "      <td>mailed_check</td>\n",
       "      <td>19.70</td>\n",
       "      <td>258.35</td>\n",
       "      <td>0</td>\n",
       "    </tr>\n",
       "    <tr>\n",
       "      <th>5946</th>\n",
       "      <td>6261-rcvns</td>\n",
       "      <td>female</td>\n",
       "      <td>0</td>\n",
       "      <td>no</td>\n",
       "      <td>no</td>\n",
       "      <td>42</td>\n",
       "      <td>yes</td>\n",
       "      <td>no</td>\n",
       "      <td>dsl</td>\n",
       "      <td>yes</td>\n",
       "      <td>...</td>\n",
       "      <td>yes</td>\n",
       "      <td>yes</td>\n",
       "      <td>no</td>\n",
       "      <td>yes</td>\n",
       "      <td>one_year</td>\n",
       "      <td>no</td>\n",
       "      <td>credit_card_(automatic)</td>\n",
       "      <td>73.90</td>\n",
       "      <td>3160.55</td>\n",
       "      <td>1</td>\n",
       "    </tr>\n",
       "    <tr>\n",
       "      <th>3881</th>\n",
       "      <td>2176-osjuv</td>\n",
       "      <td>male</td>\n",
       "      <td>0</td>\n",
       "      <td>yes</td>\n",
       "      <td>no</td>\n",
       "      <td>71</td>\n",
       "      <td>yes</td>\n",
       "      <td>yes</td>\n",
       "      <td>dsl</td>\n",
       "      <td>yes</td>\n",
       "      <td>...</td>\n",
       "      <td>no</td>\n",
       "      <td>yes</td>\n",
       "      <td>no</td>\n",
       "      <td>no</td>\n",
       "      <td>two_year</td>\n",
       "      <td>no</td>\n",
       "      <td>bank_transfer_(automatic)</td>\n",
       "      <td>65.15</td>\n",
       "      <td>4681.75</td>\n",
       "      <td>0</td>\n",
       "    </tr>\n",
       "    <tr>\n",
       "      <th>2389</th>\n",
       "      <td>6161-erdgd</td>\n",
       "      <td>male</td>\n",
       "      <td>0</td>\n",
       "      <td>yes</td>\n",
       "      <td>yes</td>\n",
       "      <td>71</td>\n",
       "      <td>yes</td>\n",
       "      <td>yes</td>\n",
       "      <td>dsl</td>\n",
       "      <td>yes</td>\n",
       "      <td>...</td>\n",
       "      <td>yes</td>\n",
       "      <td>yes</td>\n",
       "      <td>yes</td>\n",
       "      <td>yes</td>\n",
       "      <td>one_year</td>\n",
       "      <td>no</td>\n",
       "      <td>electronic_check</td>\n",
       "      <td>85.45</td>\n",
       "      <td>6300.85</td>\n",
       "      <td>0</td>\n",
       "    </tr>\n",
       "    <tr>\n",
       "      <th>611</th>\n",
       "      <td>4765-oxppd</td>\n",
       "      <td>female</td>\n",
       "      <td>0</td>\n",
       "      <td>yes</td>\n",
       "      <td>yes</td>\n",
       "      <td>9</td>\n",
       "      <td>yes</td>\n",
       "      <td>no</td>\n",
       "      <td>dsl</td>\n",
       "      <td>yes</td>\n",
       "      <td>...</td>\n",
       "      <td>yes</td>\n",
       "      <td>yes</td>\n",
       "      <td>no</td>\n",
       "      <td>no</td>\n",
       "      <td>month-to-month</td>\n",
       "      <td>no</td>\n",
       "      <td>mailed_check</td>\n",
       "      <td>65.00</td>\n",
       "      <td>663.05</td>\n",
       "      <td>1</td>\n",
       "    </tr>\n",
       "    <tr>\n",
       "      <th>...</th>\n",
       "      <td>...</td>\n",
       "      <td>...</td>\n",
       "      <td>...</td>\n",
       "      <td>...</td>\n",
       "      <td>...</td>\n",
       "      <td>...</td>\n",
       "      <td>...</td>\n",
       "      <td>...</td>\n",
       "      <td>...</td>\n",
       "      <td>...</td>\n",
       "      <td>...</td>\n",
       "      <td>...</td>\n",
       "      <td>...</td>\n",
       "      <td>...</td>\n",
       "      <td>...</td>\n",
       "      <td>...</td>\n",
       "      <td>...</td>\n",
       "      <td>...</td>\n",
       "      <td>...</td>\n",
       "      <td>...</td>\n",
       "      <td>...</td>\n",
       "    </tr>\n",
       "    <tr>\n",
       "      <th>2763</th>\n",
       "      <td>2250-ivbwa</td>\n",
       "      <td>male</td>\n",
       "      <td>0</td>\n",
       "      <td>yes</td>\n",
       "      <td>yes</td>\n",
       "      <td>64</td>\n",
       "      <td>yes</td>\n",
       "      <td>no</td>\n",
       "      <td>fiber_optic</td>\n",
       "      <td>yes</td>\n",
       "      <td>...</td>\n",
       "      <td>no</td>\n",
       "      <td>no</td>\n",
       "      <td>no</td>\n",
       "      <td>no</td>\n",
       "      <td>month-to-month</td>\n",
       "      <td>no</td>\n",
       "      <td>electronic_check</td>\n",
       "      <td>81.05</td>\n",
       "      <td>5135.35</td>\n",
       "      <td>0</td>\n",
       "    </tr>\n",
       "    <tr>\n",
       "      <th>5192</th>\n",
       "      <td>3507-gasnp</td>\n",
       "      <td>male</td>\n",
       "      <td>0</td>\n",
       "      <td>no</td>\n",
       "      <td>yes</td>\n",
       "      <td>60</td>\n",
       "      <td>yes</td>\n",
       "      <td>no</td>\n",
       "      <td>no</td>\n",
       "      <td>no_internet_service</td>\n",
       "      <td>...</td>\n",
       "      <td>no_internet_service</td>\n",
       "      <td>no_internet_service</td>\n",
       "      <td>no_internet_service</td>\n",
       "      <td>no_internet_service</td>\n",
       "      <td>two_year</td>\n",
       "      <td>no</td>\n",
       "      <td>mailed_check</td>\n",
       "      <td>19.95</td>\n",
       "      <td>1189.90</td>\n",
       "      <td>0</td>\n",
       "    </tr>\n",
       "    <tr>\n",
       "      <th>3980</th>\n",
       "      <td>8868-wozgu</td>\n",
       "      <td>male</td>\n",
       "      <td>0</td>\n",
       "      <td>no</td>\n",
       "      <td>no</td>\n",
       "      <td>28</td>\n",
       "      <td>yes</td>\n",
       "      <td>yes</td>\n",
       "      <td>fiber_optic</td>\n",
       "      <td>no</td>\n",
       "      <td>...</td>\n",
       "      <td>yes</td>\n",
       "      <td>no</td>\n",
       "      <td>yes</td>\n",
       "      <td>yes</td>\n",
       "      <td>month-to-month</td>\n",
       "      <td>yes</td>\n",
       "      <td>electronic_check</td>\n",
       "      <td>105.70</td>\n",
       "      <td>2979.50</td>\n",
       "      <td>1</td>\n",
       "    </tr>\n",
       "    <tr>\n",
       "      <th>235</th>\n",
       "      <td>1251-krreg</td>\n",
       "      <td>male</td>\n",
       "      <td>0</td>\n",
       "      <td>no</td>\n",
       "      <td>no</td>\n",
       "      <td>2</td>\n",
       "      <td>yes</td>\n",
       "      <td>yes</td>\n",
       "      <td>dsl</td>\n",
       "      <td>no</td>\n",
       "      <td>...</td>\n",
       "      <td>no</td>\n",
       "      <td>no</td>\n",
       "      <td>no</td>\n",
       "      <td>no</td>\n",
       "      <td>month-to-month</td>\n",
       "      <td>yes</td>\n",
       "      <td>mailed_check</td>\n",
       "      <td>54.40</td>\n",
       "      <td>114.10</td>\n",
       "      <td>1</td>\n",
       "    </tr>\n",
       "    <tr>\n",
       "      <th>5157</th>\n",
       "      <td>5840-nvdcg</td>\n",
       "      <td>female</td>\n",
       "      <td>0</td>\n",
       "      <td>yes</td>\n",
       "      <td>yes</td>\n",
       "      <td>16</td>\n",
       "      <td>yes</td>\n",
       "      <td>no</td>\n",
       "      <td>dsl</td>\n",
       "      <td>yes</td>\n",
       "      <td>...</td>\n",
       "      <td>no</td>\n",
       "      <td>yes</td>\n",
       "      <td>no</td>\n",
       "      <td>yes</td>\n",
       "      <td>two_year</td>\n",
       "      <td>no</td>\n",
       "      <td>bank_transfer_(automatic)</td>\n",
       "      <td>68.25</td>\n",
       "      <td>1114.85</td>\n",
       "      <td>0</td>\n",
       "    </tr>\n",
       "  </tbody>\n",
       "</table>\n",
       "<p>5070 rows × 21 columns</p>\n",
       "</div>"
      ],
      "text/plain": [
       "      customerid  gender  seniorcitizen partner dependents  tenure  \\\n",
       "1814  5442-pptjy    male              0     yes        yes      12   \n",
       "5946  6261-rcvns  female              0      no         no      42   \n",
       "3881  2176-osjuv    male              0     yes         no      71   \n",
       "2389  6161-erdgd    male              0     yes        yes      71   \n",
       "611   4765-oxppd  female              0     yes        yes       9   \n",
       "...          ...     ...            ...     ...        ...     ...   \n",
       "2763  2250-ivbwa    male              0     yes        yes      64   \n",
       "5192  3507-gasnp    male              0      no        yes      60   \n",
       "3980  8868-wozgu    male              0      no         no      28   \n",
       "235   1251-krreg    male              0      no         no       2   \n",
       "5157  5840-nvdcg  female              0     yes        yes      16   \n",
       "\n",
       "     phoneservice multiplelines internetservice       onlinesecurity  ...  \\\n",
       "1814          yes            no              no  no_internet_service  ...   \n",
       "5946          yes            no             dsl                  yes  ...   \n",
       "3881          yes           yes             dsl                  yes  ...   \n",
       "2389          yes           yes             dsl                  yes  ...   \n",
       "611           yes            no             dsl                  yes  ...   \n",
       "...           ...           ...             ...                  ...  ...   \n",
       "2763          yes            no     fiber_optic                  yes  ...   \n",
       "5192          yes            no              no  no_internet_service  ...   \n",
       "3980          yes           yes     fiber_optic                   no  ...   \n",
       "235           yes           yes             dsl                   no  ...   \n",
       "5157          yes            no             dsl                  yes  ...   \n",
       "\n",
       "         deviceprotection          techsupport          streamingtv  \\\n",
       "1814  no_internet_service  no_internet_service  no_internet_service   \n",
       "5946                  yes                  yes                   no   \n",
       "3881                   no                  yes                   no   \n",
       "2389                  yes                  yes                  yes   \n",
       "611                   yes                  yes                   no   \n",
       "...                   ...                  ...                  ...   \n",
       "2763                   no                   no                   no   \n",
       "5192  no_internet_service  no_internet_service  no_internet_service   \n",
       "3980                  yes                   no                  yes   \n",
       "235                    no                   no                   no   \n",
       "5157                   no                  yes                   no   \n",
       "\n",
       "          streamingmovies        contract paperlessbilling  \\\n",
       "1814  no_internet_service        two_year               no   \n",
       "5946                  yes        one_year               no   \n",
       "3881                   no        two_year               no   \n",
       "2389                  yes        one_year               no   \n",
       "611                    no  month-to-month               no   \n",
       "...                   ...             ...              ...   \n",
       "2763                   no  month-to-month               no   \n",
       "5192  no_internet_service        two_year               no   \n",
       "3980                  yes  month-to-month              yes   \n",
       "235                    no  month-to-month              yes   \n",
       "5157                  yes        two_year               no   \n",
       "\n",
       "                  paymentmethod monthlycharges  totalcharges  churn  \n",
       "1814               mailed_check          19.70        258.35      0  \n",
       "5946    credit_card_(automatic)          73.90       3160.55      1  \n",
       "3881  bank_transfer_(automatic)          65.15       4681.75      0  \n",
       "2389           electronic_check          85.45       6300.85      0  \n",
       "611                mailed_check          65.00        663.05      1  \n",
       "...                         ...            ...           ...    ...  \n",
       "2763           electronic_check          81.05       5135.35      0  \n",
       "5192               mailed_check          19.95       1189.90      0  \n",
       "3980           electronic_check         105.70       2979.50      1  \n",
       "235                mailed_check          54.40        114.10      1  \n",
       "5157  bank_transfer_(automatic)          68.25       1114.85      0  \n",
       "\n",
       "[5070 rows x 21 columns]"
      ]
     },
     "execution_count": 141,
     "metadata": {},
     "output_type": "execute_result"
    }
   ],
   "source": [
    "df_full_train.iloc[train_idx]"
   ]
  },
  {
   "cell_type": "code",
   "execution_count": 142,
   "metadata": {},
   "outputs": [],
   "source": [
    "from tqdm.auto import tqdm"
   ]
  },
  {
   "cell_type": "code",
   "execution_count": 144,
   "metadata": {},
   "outputs": [
    {
     "name": "stderr",
     "output_type": "stream",
     "text": [
      "10it [00:02,  4.50it/s]\n"
     ]
    }
   ],
   "source": [
    "scores = []\n",
    "for train_idx,val_idx in tqdm(kfold.split(df_full_train)):\n",
    "    df_train = df_full_train.iloc[train_idx]\n",
    "    df_val = df_full_train.iloc[val_idx]\n",
    "\n",
    "    y_train = df_train.churn.values\n",
    "    y_val = df_val.churn.values\n",
    "\n",
    "    dv,model = train(df_train,y_train)\n",
    "    y_pred = predict(df_val,dv,model)\n",
    "\n",
    "    auc = roc_auc_score(y_val,y_pred)\n",
    "\n",
    "    scores.append(auc)"
   ]
  },
  {
   "cell_type": "code",
   "execution_count": 145,
   "metadata": {},
   "outputs": [
    {
     "data": {
      "text/plain": [
       "[0.8479398247539081,\n",
       " 0.8414294554455446,\n",
       " 0.8557214756739697,\n",
       " 0.8344086906427454,\n",
       " 0.8251085607940447,\n",
       " 0.8342657342657342,\n",
       " 0.8412569195701727,\n",
       " 0.8186669829222013,\n",
       " 0.8452052764191493,\n",
       " 0.8618029646062317]"
      ]
     },
     "execution_count": 145,
     "metadata": {},
     "output_type": "execute_result"
    }
   ],
   "source": [
    "scores"
   ]
  },
  {
   "cell_type": "code",
   "execution_count": 146,
   "metadata": {},
   "outputs": [
    {
     "name": "stdout",
     "output_type": "stream",
     "text": [
      "AUC 0.841 +- 0.012\n"
     ]
    }
   ],
   "source": [
    "print('AUC %.3f +- %.3f' % (np.mean(scores),np.std(scores)))"
   ]
  },
  {
   "cell_type": "markdown",
   "metadata": {},
   "source": [
    "Now, we can also explore the effect of regularization *C*"
   ]
  },
  {
   "cell_type": "code",
   "execution_count": 159,
   "metadata": {},
   "outputs": [
    {
     "name": "stderr",
     "output_type": "stream",
     "text": [
      " 14%|█▍        | 1/7 [00:01<00:06,  1.14s/it]"
     ]
    },
    {
     "name": "stdout",
     "output_type": "stream",
     "text": [
      "C=0.001 :AUC 0.825 +- 0.009\n"
     ]
    },
    {
     "name": "stderr",
     "output_type": "stream",
     "text": [
      " 29%|██▊       | 2/7 [00:02<00:05,  1.13s/it]"
     ]
    },
    {
     "name": "stdout",
     "output_type": "stream",
     "text": [
      "C=0.01 :AUC 0.840 +- 0.009\n"
     ]
    },
    {
     "name": "stderr",
     "output_type": "stream",
     "text": [
      " 43%|████▎     | 3/7 [00:03<00:04,  1.15s/it]"
     ]
    },
    {
     "name": "stdout",
     "output_type": "stream",
     "text": [
      "C=0.1 :AUC 0.841 +- 0.008\n"
     ]
    },
    {
     "name": "stderr",
     "output_type": "stream",
     "text": [
      " 57%|█████▋    | 4/7 [00:04<00:03,  1.23s/it]"
     ]
    },
    {
     "name": "stdout",
     "output_type": "stream",
     "text": [
      "C=0.5 :AUC 0.841 +- 0.006\n"
     ]
    },
    {
     "name": "stderr",
     "output_type": "stream",
     "text": [
      " 71%|███████▏  | 5/7 [00:06<00:02,  1.26s/it]"
     ]
    },
    {
     "name": "stdout",
     "output_type": "stream",
     "text": [
      "C=1 :AUC 0.840 +- 0.009\n"
     ]
    },
    {
     "name": "stderr",
     "output_type": "stream",
     "text": [
      " 86%|████████▌ | 6/7 [00:07<00:01,  1.33s/it]"
     ]
    },
    {
     "name": "stdout",
     "output_type": "stream",
     "text": [
      "C=5 :AUC 0.841 +- 0.008\n"
     ]
    },
    {
     "name": "stderr",
     "output_type": "stream",
     "text": [
      "100%|██████████| 7/7 [00:08<00:00,  1.25s/it]"
     ]
    },
    {
     "name": "stdout",
     "output_type": "stream",
     "text": [
      "C=10 :AUC 0.841 +- 0.008\n"
     ]
    },
    {
     "name": "stderr",
     "output_type": "stream",
     "text": [
      "\n"
     ]
    }
   ],
   "source": [
    "n_splits = 5\n",
    "\n",
    "C_scores = {}\n",
    "for C in tqdm([0.001,0.01,0.1,0.5,1,5,10]):\n",
    "    scores = []\n",
    "    kfold = KFold(n_splits=n_splits,shuffle=True,random_state=1)\n",
    "    for train_idx,val_idx in kfold.split(df_full_train):\n",
    "        df_train = df_full_train.iloc[train_idx]\n",
    "        df_val = df_full_train.iloc[val_idx]\n",
    "\n",
    "        y_train = df_train.churn.values\n",
    "        y_val = df_val.churn.values\n",
    "\n",
    "        dv,model = train(df_train,y_train,C=C)\n",
    "        y_pred = predict(df_val,dv,model)\n",
    "\n",
    "        auc = roc_auc_score(y_val,y_pred)\n",
    "\n",
    "        scores.append(auc)\n",
    "\n",
    "    mean = np.mean(scores).round(3)\n",
    "    std = np.std(scores).round(3)\n",
    "    print('C=%s :AUC %.3f +- %.3f' % (C,np.mean(scores),np.std(scores)))\n",
    "\n",
    "    C_scores.update({C:{'mean':mean,'std':std}})"
   ]
  },
  {
   "cell_type": "code",
   "execution_count": 160,
   "metadata": {},
   "outputs": [
    {
     "data": {
      "text/plain": [
       "{0.001: {'mean': 0.825, 'std': 0.009},\n",
       " 0.01: {'mean': 0.84, 'std': 0.009},\n",
       " 0.1: {'mean': 0.841, 'std': 0.008},\n",
       " 0.5: {'mean': 0.841, 'std': 0.006},\n",
       " 1: {'mean': 0.84, 'std': 0.009},\n",
       " 5: {'mean': 0.841, 'std': 0.008},\n",
       " 10: {'mean': 0.841, 'std': 0.008}}"
      ]
     },
     "execution_count": 160,
     "metadata": {},
     "output_type": "execute_result"
    }
   ],
   "source": [
    "C_scores"
   ]
  },
  {
   "cell_type": "markdown",
   "metadata": {},
   "source": [
    "Lets train the model with the full train dataset"
   ]
  },
  {
   "cell_type": "code",
   "execution_count": 162,
   "metadata": {},
   "outputs": [
    {
     "data": {
      "text/plain": [
       "0.8572386167896259"
      ]
     },
     "execution_count": 162,
     "metadata": {},
     "output_type": "execute_result"
    }
   ],
   "source": [
    "dv,model = train(df_full_train,df_full_train.churn,C=1.0)\n",
    "y_pred = predict(df_test,dv,model)\n",
    "\n",
    "auc = roc_auc_score(y_test,y_pred)\n",
    "auc"
   ]
  }
 ],
 "metadata": {
  "kernelspec": {
   "display_name": "Python 3.9.5 ('ml-zoomcamp')",
   "language": "python",
   "name": "python3"
  },
  "language_info": {
   "codemirror_mode": {
    "name": "ipython",
    "version": 3
   },
   "file_extension": ".py",
   "mimetype": "text/x-python",
   "name": "python",
   "nbconvert_exporter": "python",
   "pygments_lexer": "ipython3",
   "version": "3.9.5"
  },
  "orig_nbformat": 4,
  "vscode": {
   "interpreter": {
    "hash": "f34e707eadd4d98dfdbeee7893ee1de7221debbe41f084b23279894c65ba6aa4"
   }
  }
 },
 "nbformat": 4,
 "nbformat_minor": 2
}
