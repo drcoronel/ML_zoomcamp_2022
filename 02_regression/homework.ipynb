{
 "cells": [
  {
   "cell_type": "markdown",
   "metadata": {},
   "source": [
    "# House Pricing Homework"
   ]
  },
  {
   "cell_type": "code",
   "execution_count": 1,
   "metadata": {},
   "outputs": [],
   "source": [
    "import numpy as np\n",
    "import pandas as pd\n",
    "import matplotlib.pyplot as plt\n",
    "import seaborn as sns\n",
    "from matplotlib import style\n",
    "from functions import *\n",
    "style.use(\"seaborn\")"
   ]
  },
  {
   "cell_type": "code",
   "execution_count": 2,
   "metadata": {},
   "outputs": [
    {
     "data": {
      "text/html": [
       "<div>\n",
       "<style scoped>\n",
       "    .dataframe tbody tr th:only-of-type {\n",
       "        vertical-align: middle;\n",
       "    }\n",
       "\n",
       "    .dataframe tbody tr th {\n",
       "        vertical-align: top;\n",
       "    }\n",
       "\n",
       "    .dataframe thead th {\n",
       "        text-align: right;\n",
       "    }\n",
       "</style>\n",
       "<table border=\"1\" class=\"dataframe\">\n",
       "  <thead>\n",
       "    <tr style=\"text-align: right;\">\n",
       "      <th></th>\n",
       "      <th>longitude</th>\n",
       "      <th>latitude</th>\n",
       "      <th>housing_median_age</th>\n",
       "      <th>total_rooms</th>\n",
       "      <th>total_bedrooms</th>\n",
       "      <th>population</th>\n",
       "      <th>households</th>\n",
       "      <th>median_income</th>\n",
       "      <th>median_house_value</th>\n",
       "      <th>ocean_proximity</th>\n",
       "    </tr>\n",
       "  </thead>\n",
       "  <tbody>\n",
       "    <tr>\n",
       "      <th>0</th>\n",
       "      <td>-122.23</td>\n",
       "      <td>37.88</td>\n",
       "      <td>41.0</td>\n",
       "      <td>880.0</td>\n",
       "      <td>129.0</td>\n",
       "      <td>322.0</td>\n",
       "      <td>126.0</td>\n",
       "      <td>8.3252</td>\n",
       "      <td>452600.0</td>\n",
       "      <td>NEAR BAY</td>\n",
       "    </tr>\n",
       "    <tr>\n",
       "      <th>1</th>\n",
       "      <td>-122.22</td>\n",
       "      <td>37.86</td>\n",
       "      <td>21.0</td>\n",
       "      <td>7099.0</td>\n",
       "      <td>1106.0</td>\n",
       "      <td>2401.0</td>\n",
       "      <td>1138.0</td>\n",
       "      <td>8.3014</td>\n",
       "      <td>358500.0</td>\n",
       "      <td>NEAR BAY</td>\n",
       "    </tr>\n",
       "    <tr>\n",
       "      <th>2</th>\n",
       "      <td>-122.24</td>\n",
       "      <td>37.85</td>\n",
       "      <td>52.0</td>\n",
       "      <td>1467.0</td>\n",
       "      <td>190.0</td>\n",
       "      <td>496.0</td>\n",
       "      <td>177.0</td>\n",
       "      <td>7.2574</td>\n",
       "      <td>352100.0</td>\n",
       "      <td>NEAR BAY</td>\n",
       "    </tr>\n",
       "    <tr>\n",
       "      <th>3</th>\n",
       "      <td>-122.25</td>\n",
       "      <td>37.85</td>\n",
       "      <td>52.0</td>\n",
       "      <td>1274.0</td>\n",
       "      <td>235.0</td>\n",
       "      <td>558.0</td>\n",
       "      <td>219.0</td>\n",
       "      <td>5.6431</td>\n",
       "      <td>341300.0</td>\n",
       "      <td>NEAR BAY</td>\n",
       "    </tr>\n",
       "    <tr>\n",
       "      <th>4</th>\n",
       "      <td>-122.25</td>\n",
       "      <td>37.85</td>\n",
       "      <td>52.0</td>\n",
       "      <td>1627.0</td>\n",
       "      <td>280.0</td>\n",
       "      <td>565.0</td>\n",
       "      <td>259.0</td>\n",
       "      <td>3.8462</td>\n",
       "      <td>342200.0</td>\n",
       "      <td>NEAR BAY</td>\n",
       "    </tr>\n",
       "  </tbody>\n",
       "</table>\n",
       "</div>"
      ],
      "text/plain": [
       "   longitude  latitude  housing_median_age  total_rooms  total_bedrooms  \\\n",
       "0    -122.23     37.88                41.0        880.0           129.0   \n",
       "1    -122.22     37.86                21.0       7099.0          1106.0   \n",
       "2    -122.24     37.85                52.0       1467.0           190.0   \n",
       "3    -122.25     37.85                52.0       1274.0           235.0   \n",
       "4    -122.25     37.85                52.0       1627.0           280.0   \n",
       "\n",
       "   population  households  median_income  median_house_value ocean_proximity  \n",
       "0       322.0       126.0         8.3252            452600.0        NEAR BAY  \n",
       "1      2401.0      1138.0         8.3014            358500.0        NEAR BAY  \n",
       "2       496.0       177.0         7.2574            352100.0        NEAR BAY  \n",
       "3       558.0       219.0         5.6431            341300.0        NEAR BAY  \n",
       "4       565.0       259.0         3.8462            342200.0        NEAR BAY  "
      ]
     },
     "execution_count": 2,
     "metadata": {},
     "output_type": "execute_result"
    }
   ],
   "source": [
    "df = pd.read_csv(\"housing.csv\")\n",
    "df.head()"
   ]
  },
  {
   "cell_type": "markdown",
   "metadata": {},
   "source": [
    "# EDA"
   ]
  },
  {
   "cell_type": "code",
   "execution_count": 3,
   "metadata": {},
   "outputs": [
    {
     "data": {
      "text/plain": [
       "count     20640.000000\n",
       "mean     206855.816909\n",
       "std      115395.615874\n",
       "min       14999.000000\n",
       "25%      119600.000000\n",
       "50%      179700.000000\n",
       "75%      264725.000000\n",
       "max      500001.000000\n",
       "Name: median_house_value, dtype: float64"
      ]
     },
     "execution_count": 3,
     "metadata": {},
     "output_type": "execute_result"
    }
   ],
   "source": [
    "df.median_house_value.describe()"
   ]
  },
  {
   "cell_type": "code",
   "execution_count": 4,
   "metadata": {},
   "outputs": [
    {
     "data": {
      "text/plain": [
       "<seaborn.axisgrid.FacetGrid at 0x7f2d1c559ee0>"
      ]
     },
     "execution_count": 4,
     "metadata": {},
     "output_type": "execute_result"
    },
    {
     "data": {
      "image/png": "[encoded data removed]",
      "text/plain": [
       "<Figure size 500x500 with 1 Axes>"
      ]
     },
     "metadata": {},
     "output_type": "display_data"
    }
   ],
   "source": [
    "sns.displot(x='median_house_value',kde=True,data=df)"
   ]
  },
  {
   "cell_type": "code",
   "execution_count": 5,
   "metadata": {},
   "outputs": [
    {
     "data": {
      "text/plain": [
       "<seaborn.axisgrid.FacetGrid at 0x7f2d1b4d1160>"
      ]
     },
     "execution_count": 5,
     "metadata": {},
     "output_type": "execute_result"
    },
    {
     "data": {
      "image/png": "[encoded data removed]",
      "text/plain": [
       "<Figure size 500x500 with 1 Axes>"
      ]
     },
     "metadata": {},
     "output_type": "display_data"
    }
   ],
   "source": [
    "val = df.median_house_value.values \n",
    "scale = (val-val.mean())/val.std()\n",
    "\n",
    "sns.displot(scale,kde=True)"
   ]
  },
  {
   "cell_type": "code",
   "execution_count": 6,
   "metadata": {},
   "outputs": [
    {
     "data": {
      "text/plain": [
       "9"
      ]
     },
     "execution_count": 6,
     "metadata": {},
     "output_type": "execute_result"
    }
   ],
   "source": [
    "columns = ['latitude', 'longitude','housing_median_age','total_rooms',\n",
    "'total_bedrooms','population','households','median_income','median_house_value']\n",
    "len(columns)"
   ]
  },
  {
   "cell_type": "markdown",
   "metadata": {},
   "source": [
    "## Q1. Find a feature with missing values. How many missing values does it have?"
   ]
  },
  {
   "cell_type": "code",
   "execution_count": 7,
   "metadata": {},
   "outputs": [
    {
     "name": "stdout",
     "output_type": "stream",
     "text": [
      "total_bedrooms    207\n",
      "dtype: int64\n"
     ]
    }
   ],
   "source": [
    "missing = df[columns].isnull().sum()\n",
    "cols_missing = missing[missing>0]\n",
    "print(cols_missing)"
   ]
  },
  {
   "cell_type": "markdown",
   "metadata": {},
   "source": [
    "## Q2. Whats the median for \"population\""
   ]
  },
  {
   "cell_type": "code",
   "execution_count": 8,
   "metadata": {},
   "outputs": [
    {
     "name": "stdout",
     "output_type": "stream",
     "text": [
      "The median for the variable population is 1166.0\n"
     ]
    }
   ],
   "source": [
    "median_population = df.population.median()\n",
    "print(f\"The median for the variable population is {median_population}\")"
   ]
  },
  {
   "cell_type": "markdown",
   "metadata": {},
   "source": [
    "# Split dataset"
   ]
  },
  {
   "cell_type": "code",
   "execution_count": 9,
   "metadata": {},
   "outputs": [],
   "source": [
    "idxs = df.index.values \n",
    "np.random.seed(42)\n",
    "np.random.shuffle(idxs)\n",
    "\n",
    "df_new = df.iloc[idxs][columns].copy()\n",
    "\n"
   ]
  },
  {
   "cell_type": "code",
   "execution_count": 10,
   "metadata": {},
   "outputs": [],
   "source": [
    "n = len(df_new)\n",
    "n_val = int(n*0.2)\n",
    "n_test = int(n*0.2)\n",
    "n_train = n - (n_val+n_test)"
   ]
  },
  {
   "cell_type": "code",
   "execution_count": 11,
   "metadata": {},
   "outputs": [],
   "source": [
    "df_train = df_new.iloc[idxs[:n_train]].reset_index(drop=True)\n",
    "df_val = df_new.iloc[idxs[n_train:n_train+n_val]].reset_index(drop=True)\n",
    "df_test = df_new.iloc[idxs[n_train+n_val:]].reset_index(drop=True)"
   ]
  },
  {
   "cell_type": "code",
   "execution_count": 12,
   "metadata": {},
   "outputs": [],
   "source": [
    "y_train = np.log1p(df_train['median_house_value'].values)\n",
    "y_val = np.log1p(df_val['median_house_value'].values)\n",
    "y_test = np.log1p(df_test['median_house_value'].values)"
   ]
  },
  {
   "cell_type": "code",
   "execution_count": 13,
   "metadata": {},
   "outputs": [],
   "source": [
    "del df_train['median_house_value']\n",
    "del df_val['median_house_value']\n",
    "del df_test['median_house_value']"
   ]
  },
  {
   "cell_type": "markdown",
   "metadata": {},
   "source": [
    "## Q3 \n",
    "\n",
    "- We need to deal with missing values for the column from Q1\n",
    "- We have two options: fill it with 0 or with the mean of this variable."
   ]
  },
  {
   "cell_type": "code",
   "execution_count": 14,
   "metadata": {},
   "outputs": [],
   "source": [
    "mean = df_train['total_bedrooms'].mean() # mean from training data\n",
    "\n",
    "df_train_mean = df_train.copy()\n",
    "df_train_zero = df_train.copy()\n",
    "df_train_mean['total_bedrooms'] = df_train_mean['total_bedrooms'].fillna(mean)\n",
    "df_train_zero['total_bedrooms'] = df_train_zero['total_bedrooms'].fillna(0.0)\n",
    "\n",
    "df_val_mean = df_val.copy()\n",
    "df_val_zero = df_val.copy()\n",
    "df_val_mean['total_bedrooms'] = df_val_mean['total_bedrooms'].fillna(mean)\n",
    "df_val_zero['total_bedrooms'] = df_val_zero['total_bedrooms'].fillna(0.0)"
   ]
  },
  {
   "cell_type": "code",
   "execution_count": 15,
   "metadata": {},
   "outputs": [],
   "source": [
    "X_train_mean = df_train_mean.values \n",
    "X_train_zero = df_train_zero.values\n",
    "\n",
    "X_val_mean = df_val_mean.values \n",
    "X_val_zero = df_val_zero.values"
   ]
  },
  {
   "cell_type": "markdown",
   "metadata": {},
   "source": [
    "Now, we try both options. For each, train a linear regression model without regularization using the code from the lessons."
   ]
  },
  {
   "cell_type": "code",
   "execution_count": 16,
   "metadata": {},
   "outputs": [
    {
     "data": {
      "text/plain": [
       "[0.34, 0.34]"
      ]
     },
     "execution_count": 16,
     "metadata": {},
     "output_type": "execute_result"
    }
   ],
   "source": [
    "Xs_train = [X_train_mean,X_train_zero]\n",
    "Xs_val = [X_val_mean,X_val_zero]\n",
    "scores = []\n",
    "for i,X_train in enumerate(Xs_train):\n",
    "    w0,w = train_linear_regression(X_train,y_train)\n",
    "    y_pred = Xs_val[0].dot(w) + w0 \n",
    "    \n",
    "    # Calculate and store RMSE\n",
    "    score = rmse(y_preds=y_pred,y=y_val)\n",
    "    scores.append(np.round(score,2))\n",
    "\n",
    "scores\n",
    "    "
   ]
  },
  {
   "cell_type": "markdown",
   "metadata": {},
   "source": [
    "## Q4"
   ]
  },
  {
   "cell_type": "code",
   "execution_count": 17,
   "metadata": {},
   "outputs": [],
   "source": [
    "def prepare_X(df):\n",
    "    df = df.copy()\n",
    "    \n",
    "    #Fill NaNs with 0.0 \n",
    "    df.fillna(0.0,inplace=True)\n",
    "    \n",
    "    X = df.values \n",
    "    return X"
   ]
  },
  {
   "cell_type": "code",
   "execution_count": 18,
   "metadata": {},
   "outputs": [],
   "source": [
    "X_train = prepare_X(df_train)\n",
    "X_val = prepare_X(df_val)"
   ]
  },
  {
   "cell_type": "markdown",
   "metadata": {},
   "source": [
    "Now, we evaluate the effect of different regularization values $\\alpha$"
   ]
  },
  {
   "cell_type": "code",
   "execution_count": 19,
   "metadata": {},
   "outputs": [
    {
     "name": "stdout",
     "output_type": "stream",
     "text": [
      "{'0': 0.34, '1e-06': 0.34, '0.0001': 0.34, '0.001': 0.34, '0.01': 0.34, '0.1': 0.34, '1': 0.35, '5': 0.35, '10': 0.35}\n",
      "The best alpha is 0 with a score of 0.34\n"
     ]
    }
   ],
   "source": [
    "alphas = [0, 0.000001, 0.0001, 0.001, 0.01, 0.1, 1, 5, 10]\n",
    "scores = {}\n",
    "for alpha in alphas:\n",
    "    \n",
    "    w0,w = train_linear_regression_reg(X_train,y_train,alpha=alpha)\n",
    "    # Validation\n",
    "    y_val_pred = X_val.dot(w) + w0\n",
    "\n",
    "    scores.update({str(alpha):np.round(rmse(y_preds=y_val_pred,y=y_val),2)})\n",
    "\n",
    "print(scores)\n",
    "\n",
    "best_param = min(scores,key=scores.get)\n",
    "\n",
    "print(f\"The best alpha is {best_param} with a score of {scores[best_param]}\")\n"
   ]
  },
  {
   "cell_type": "markdown",
   "metadata": {},
   "source": [
    "## Q5 \n",
    "\n",
    "Now, we want to evaluate what is the effect of the random seed we use when we split the dataset into training ,validation an test. This will allow to understand how stable or unstable or model is."
   ]
  },
  {
   "cell_type": "code",
   "execution_count": 20,
   "metadata": {},
   "outputs": [
    {
     "data": {
      "text/plain": [
       "0.005"
      ]
     },
     "execution_count": 20,
     "metadata": {},
     "output_type": "execute_result"
    }
   ],
   "source": [
    "idxs = df.index.values\n",
    "\n",
    "seeds = [0, 1, 2, 3, 4, 5, 6, 7, 8, 9]\n",
    "scores = []\n",
    "\n",
    "for i,seed in enumerate(seeds):\n",
    "    (df_train,y_train),(df_val,y_val),(df_test,y_test) = split_dataset(df[columns],val_size=0.2,test_size=0.2,seed=seed)\n",
    "    X_train = prepare_X(df_train)\n",
    "    X_val = prepare_X(df_val)\n",
    "    \n",
    "    w0,w = train_linear_regression(X_train,y_train)\n",
    "    # Validation\n",
    "    y_val_pred = X_val.dot(w) + w0\n",
    "\n",
    "    scores.append(rmse(y_preds=y_val_pred,y=y_val))\n",
    "\n",
    "scores = np.array(scores)\n",
    "\n",
    "np.round(np.std(scores),3)\n",
    "\n"
   ]
  },
  {
   "cell_type": "markdown",
   "metadata": {},
   "source": [
    "## Q6 \n",
    "\n",
    "- Split the dataset like previously, use seed 9.\n",
    "- Combine train and validation datasets.\n",
    "- Fill the missing values with 0 and train a model with r=0.001.\n",
    "- What's the RMSE on the test dataset?"
   ]
  },
  {
   "cell_type": "code",
   "execution_count": 21,
   "metadata": {},
   "outputs": [
    {
     "name": "stdout",
     "output_type": "stream",
     "text": [
      "0.34\n"
     ]
    }
   ],
   "source": [
    "seed = 9 # Random seed\n",
    "alpha = 0.001 # Regularization\n",
    "\n",
    "# Dataset split\n",
    "(df_train,y_train),(df_val,y_val),(df_test,y_test) = split_dataset(df[columns],val_size=0.2,test_size=0.2,seed=seed)\n",
    "\n",
    "# Merge training and validtion dataset\n",
    "df_full_train = pd.concat([df_train,df_val]).reset_index(drop=True)\n",
    "y_full_train = np.concatenate([y_train,y_val])\n",
    "\n",
    "# Fill NaNs and return Features (X) arrays\n",
    "\n",
    "X_full_train = prepare_X(df_full_train)\n",
    "X_test = prepare_X(df_test)\n",
    "\n",
    "#Train regularized linear regression\n",
    "\n",
    "w0,w = train_linear_regression_reg(X_full_train,y_full_train,alpha=alpha)\n",
    "\n",
    "# Predict\n",
    "y_test_pred = X_test.dot(w) + w0\n",
    "\n",
    "#Evaluate\n",
    "score = np.round(rmse(y_preds=y_test_pred,y=y_test),2)\n",
    "print(score)"
   ]
  }
 ],
 "metadata": {
  "kernelspec": {
   "display_name": "Python 3.9.5 ('ml-zoomcamp')",
   "language": "python",
   "name": "python3"
  },
  "language_info": {
   "codemirror_mode": {
    "name": "ipython",
    "version": 3
   },
   "file_extension": ".py",
   "mimetype": "text/x-python",
   "name": "python",
   "nbconvert_exporter": "python",
   "pygments_lexer": "ipython3",
   "version": "3.9.5"
  },
  "orig_nbformat": 4,
  "vscode": {
   "interpreter": {
    "hash": "f34e707eadd4d98dfdbeee7893ee1de7221debbe41f084b23279894c65ba6aa4"
   }
  }
 },
 "nbformat": 4,
 "nbformat_minor": 2
}
